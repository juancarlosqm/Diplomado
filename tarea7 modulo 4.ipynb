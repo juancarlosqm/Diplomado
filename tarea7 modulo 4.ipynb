{
 "cells": [
  {
   "cell_type": "markdown",
   "metadata": {},
   "source": [
    "Utilizando la funcion de perdida   \n",
    "$$L(y, f(x)) = e^{−y f(x)} $$\n",
    "Sabemos que\n",
    "$$f_{0}(x)=0$$\n",
    "$$f_{0}(x) = \\sum_{i=1}^N β_m G_m(x)$$\n",
    "donde\n",
    "$$ G_m(x) ∈ {−1, 1}$$\n",
    "Se debe resolver para B y G\n",
    "$$ (β_{m},G_{m}) = argmin_{β,G} \\sum_{i=1}^N e^{−yi(f_{m−1}(x_i) + β G(x_i))}$$\n",
    "$$  (β_{m},G_{m}) = argmin_{β,G} \\sum_{i=1}^N w_i^{(m)}e^{−β y_i G(x_i)}$$\n",
    "Para los casos donde B>0\n",
    "$$ G_{m} = argmin_{G} \\sum_{i=1}^N w_i^{(m)}I(y_i \\neq G(x_i))$$\n",
    "$$ e^{-β}\\sum_{y_i=G(x_i)}^N w_i^{(m)} + e^{β}\\sum_{y_i \\neq G(x_i)}^N w_i^{(m)}$$\n",
    "$$ (e^{β}-e^{-β})\\sum_{i=1}^N w_i^{(m)}I(y_i \\neq G(x_i)) + e^{-β}\\sum_{i=1}^N w_i^{(m)}$$\n",
    "sabemos que:\n",
    "$$ β_m = \\frac{1}{2} log\\frac{1-err_m}{err_m} $$\n",
    "donde err_m es:\n",
    "$$err_m = \\frac{\\sum_{i=1}^N w_i^{(m)}I(y_i \\neq G(x_i))}{\\sum_{i=1}^N w_i^{(m)}}  $$\n",
    "por lo tanto, la aproximacion es:\n",
    "$$f_{m}(x) = f_{m−1}(x) + β_mG_m(x) $$\n",
    "por lo tanto los pesos:\n",
    "$$w_{i}^{(m+1)} = w_i^{(m)} e^{−β_m y_i G_m(x_i)} $$\n",
    "usando\n",
    "$$−y_iG_m(x_i) = 2I(y_i \\neq G_m(x_i)) − 1$$\n",
    "entonces\n",
    "$$w_i^{(m+1)} = w_i^{(m)} e^{α_mI(y_i\\neq G_m(x_i))}e^{−β_m} $$\n",
    "donde $$ α_m = 2β_m$$\n"
   ]
  }
 ],
 "metadata": {
  "kernelspec": {
   "display_name": "Python 3",
   "language": "python",
   "name": "python3"
  },
  "language_info": {
   "codemirror_mode": {
    "name": "ipython",
    "version": 3
   },
   "file_extension": ".py",
   "mimetype": "text/x-python",
   "name": "python",
   "nbconvert_exporter": "python",
   "pygments_lexer": "ipython3",
   "version": "3.7.6"
  }
 },
 "nbformat": 4,
 "nbformat_minor": 2
}
