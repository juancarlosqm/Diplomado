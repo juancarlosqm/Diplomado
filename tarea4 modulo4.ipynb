{
 "cells": [
  {
   "cell_type": "code",
   "execution_count": 2,
   "metadata": {},
   "outputs": [],
   "source": [
    "import os\n",
    "import requests\n",
    "import pandas as pd\n",
    "import numpy as np\n",
    "import matplotlib.pyplot as plt\n",
    "from io import StringIO\n",
    "from tqdm.notebook import tqdm\n",
    "from time import sleep\n",
    "from sklearn.datasets import load_iris\n",
    "from sklearn.tree import DecisionTreeClassifier, export_graphviz, plot_tree\n",
    "from sklearn.pipeline import Pipeline\n",
    "from sklearn.compose import ColumnTransformer\n",
    "from sklearn.preprocessing import OneHotEncoder\n",
    "from sklearn.model_selection import cross_validate"
   ]
  },
  {
   "cell_type": "code",
   "execution_count": 3,
   "metadata": {},
   "outputs": [],
   "source": [
    "iris = load_iris()\n",
    "plt.rcParams[\"figure.figsize\"] = (8, 5)"
   ]
  },
  {
   "cell_type": "code",
   "execution_count": 5,
   "metadata": {},
   "outputs": [
    {
     "name": "stdout",
     "output_type": "stream",
     "text": [
      "1.7137076314067734\n",
      "6\n",
      "10\n",
      "Donde se maximiza la suma de mis test precision y test recall es con depth de 6 y 10 cortes\n"
     ]
    }
   ],
   "source": [
    "from sklearn.datasets import make_moons\n",
    "from sklearn.model_selection import cross_validate, train_test_split\n",
    "\n",
    "moons=make_moons()\n",
    "\n",
    "X, y = make_moons(n_samples=10_000, noise=0.4, random_state=25)\n",
    "xtrain, xtest, ytrain, ytest = train_test_split(X, y,test_size=0.2, random_state=314)\n",
    "maxdepth =0\n",
    "maxcv=0\n",
    "resultado=0\n",
    "\n",
    "for i in range(1,11):\n",
    "    for j in range(2,11):\n",
    "        cv=cross_validate(DecisionTreeClassifier(criterion=\"gini\", max_depth=i, random_state=314), xtrain, ytrain, cv=j, scoring=[\"precision\", \"recall\"],return_train_score=True)\n",
    "        if cv[\"test_precision\"].mean()+cv[\"test_recall\"].mean() > resultado:\n",
    "            resultado = cv[\"test_precision\"].mean()+cv[\"test_recall\"].mean()\n",
    "            maxdepth=i\n",
    "            maxcv=j\n",
    "print(resultado)\n",
    "print(maxdepth)\n",
    "print(maxcv)\n",
    "print(\"Donde se maximiza la suma de mis test precision y test recall es con depth de 6 y 10 cortes\")"
   ]
  }
 ],
 "metadata": {
  "kernelspec": {
   "display_name": "Python 3",
   "language": "python",
   "name": "python3"
  },
  "language_info": {
   "codemirror_mode": {
    "name": "ipython",
    "version": 3
   },
   "file_extension": ".py",
   "mimetype": "text/x-python",
   "name": "python",
   "nbconvert_exporter": "python",
   "pygments_lexer": "ipython3",
   "version": "3.7.6"
  }
 },
 "nbformat": 4,
 "nbformat_minor": 2
}
