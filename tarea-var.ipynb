{
 "cells": [
  {
   "cell_type": "markdown",
   "metadata": {},
   "source": [
    "# CAPM \n",
    "\n",
    "\n",
    "$$\n",
    "    r_M \\sim \\mathcal{N}(\\alpha + \\beta r_A, \\varepsilon) \\ \\forall A\n",
    "$$"
   ]
  },
  {
   "cell_type": "code",
   "execution_count": 2,
   "metadata": {},
   "outputs": [],
   "source": [
    "import pandas as pd\n",
    "import numpy as np\n",
    "import matplotlib.pyplot as plt\n",
    "import seaborn as sns"
   ]
  },
  {
   "cell_type": "markdown",
   "metadata": {},
   "source": [
    "$$\n",
    "    {\\bf w} = (\\Phi^T\\Phi)^{-1} \\Phi{\\bf t}\n",
    "$$"
   ]
  },
  {
   "cell_type": "markdown",
   "metadata": {},
   "source": [
    "## Optimización de los pesos"
   ]
  },
  {
   "cell_type": "code",
   "execution_count": 11,
   "metadata": {
    "scrolled": true
   },
   "outputs": [],
   "source": [
    "#leo el insumo de las 5 acciones\n",
    "\n",
    "data = pd.read_excel(\"PreciosPortf.xlsx\", index_col=0)\n",
    "\n",
    "#elimino las NA\n",
    "rend = data.pct_change().dropna()"
   ]
  },
  {
   "cell_type": "code",
   "execution_count": 12,
   "metadata": {},
   "outputs": [],
   "source": [
    "#solo me quedo con el ticker del instrumento y generamos la matriz de rendimientos\n",
    "columnas2 = []\n",
    "for c in data.columns:\n",
    "    columnas2.append(c.replace(\" MF Equity\",\"\"))\n",
    "\n",
    "data.columns = columnas2\n",
    "rend.columns = columnas2"
   ]
  },
  {
   "cell_type": "code",
   "execution_count": 13,
   "metadata": {},
   "outputs": [
    {
     "data": {
      "text/plain": [
       "ASURB       0.123539\n",
       "GFNORTEO    0.078811\n",
       "PE&OLES*    0.111053\n",
       "WALMEX*     0.082426\n",
       "IENOVA*     0.078997\n",
       "dtype: float64"
      ]
     },
     "execution_count": 13,
     "metadata": {},
     "output_type": "execute_result"
    }
   ],
   "source": [
    "rend_ports = rend.mean() * 252\n",
    "rend_ports"
   ]
  },
  {
   "cell_type": "code",
   "execution_count": 14,
   "metadata": {
    "scrolled": true
   },
   "outputs": [
    {
     "data": {
      "text/html": [
       "<div>\n",
       "<style scoped>\n",
       "    .dataframe tbody tr th:only-of-type {\n",
       "        vertical-align: middle;\n",
       "    }\n",
       "\n",
       "    .dataframe tbody tr th {\n",
       "        vertical-align: top;\n",
       "    }\n",
       "\n",
       "    .dataframe thead th {\n",
       "        text-align: right;\n",
       "    }\n",
       "</style>\n",
       "<table border=\"1\" class=\"dataframe\">\n",
       "  <thead>\n",
       "    <tr style=\"text-align: right;\">\n",
       "      <th></th>\n",
       "      <th>ASURB</th>\n",
       "      <th>GFNORTEO</th>\n",
       "      <th>PE&amp;OLES*</th>\n",
       "      <th>WALMEX*</th>\n",
       "      <th>IENOVA*</th>\n",
       "    </tr>\n",
       "    <tr>\n",
       "      <th>DATE</th>\n",
       "      <th></th>\n",
       "      <th></th>\n",
       "      <th></th>\n",
       "      <th></th>\n",
       "      <th></th>\n",
       "    </tr>\n",
       "  </thead>\n",
       "  <tbody>\n",
       "    <tr>\n",
       "      <th>2016-01-01</th>\n",
       "      <td>243.89</td>\n",
       "      <td>94.99</td>\n",
       "      <td>177.22</td>\n",
       "      <td>43.49</td>\n",
       "      <td>72.34</td>\n",
       "    </tr>\n",
       "    <tr>\n",
       "      <th>2016-01-04</th>\n",
       "      <td>238.29</td>\n",
       "      <td>91.79</td>\n",
       "      <td>175.90</td>\n",
       "      <td>42.84</td>\n",
       "      <td>72.98</td>\n",
       "    </tr>\n",
       "    <tr>\n",
       "      <th>2016-01-05</th>\n",
       "      <td>233.03</td>\n",
       "      <td>91.72</td>\n",
       "      <td>176.45</td>\n",
       "      <td>42.66</td>\n",
       "      <td>71.48</td>\n",
       "    </tr>\n",
       "    <tr>\n",
       "      <th>2016-01-06</th>\n",
       "      <td>231.97</td>\n",
       "      <td>91.63</td>\n",
       "      <td>172.68</td>\n",
       "      <td>42.38</td>\n",
       "      <td>70.94</td>\n",
       "    </tr>\n",
       "    <tr>\n",
       "      <th>2016-01-07</th>\n",
       "      <td>230.71</td>\n",
       "      <td>89.54</td>\n",
       "      <td>172.94</td>\n",
       "      <td>39.99</td>\n",
       "      <td>72.31</td>\n",
       "    </tr>\n",
       "    <tr>\n",
       "      <th>...</th>\n",
       "      <td>...</td>\n",
       "      <td>...</td>\n",
       "      <td>...</td>\n",
       "      <td>...</td>\n",
       "      <td>...</td>\n",
       "    </tr>\n",
       "    <tr>\n",
       "      <th>2019-12-30</th>\n",
       "      <td>354.06</td>\n",
       "      <td>105.00</td>\n",
       "      <td>200.37</td>\n",
       "      <td>54.18</td>\n",
       "      <td>86.96</td>\n",
       "    </tr>\n",
       "    <tr>\n",
       "      <th>2019-12-31</th>\n",
       "      <td>354.04</td>\n",
       "      <td>105.65</td>\n",
       "      <td>198.21</td>\n",
       "      <td>54.15</td>\n",
       "      <td>88.93</td>\n",
       "    </tr>\n",
       "    <tr>\n",
       "      <th>2020-01-01</th>\n",
       "      <td>354.04</td>\n",
       "      <td>105.65</td>\n",
       "      <td>198.21</td>\n",
       "      <td>54.15</td>\n",
       "      <td>88.93</td>\n",
       "    </tr>\n",
       "    <tr>\n",
       "      <th>2020-01-02</th>\n",
       "      <td>360.48</td>\n",
       "      <td>109.66</td>\n",
       "      <td>206.63</td>\n",
       "      <td>55.12</td>\n",
       "      <td>87.76</td>\n",
       "    </tr>\n",
       "    <tr>\n",
       "      <th>2020-01-03</th>\n",
       "      <td>362.25</td>\n",
       "      <td>109.96</td>\n",
       "      <td>210.85</td>\n",
       "      <td>54.69</td>\n",
       "      <td>89.22</td>\n",
       "    </tr>\n",
       "  </tbody>\n",
       "</table>\n",
       "<p>1046 rows × 5 columns</p>\n",
       "</div>"
      ],
      "text/plain": [
       "             ASURB  GFNORTEO  PE&OLES*  WALMEX*  IENOVA*\n",
       "DATE                                                    \n",
       "2016-01-01  243.89     94.99    177.22    43.49    72.34\n",
       "2016-01-04  238.29     91.79    175.90    42.84    72.98\n",
       "2016-01-05  233.03     91.72    176.45    42.66    71.48\n",
       "2016-01-06  231.97     91.63    172.68    42.38    70.94\n",
       "2016-01-07  230.71     89.54    172.94    39.99    72.31\n",
       "...            ...       ...       ...      ...      ...\n",
       "2019-12-30  354.06    105.00    200.37    54.18    86.96\n",
       "2019-12-31  354.04    105.65    198.21    54.15    88.93\n",
       "2020-01-01  354.04    105.65    198.21    54.15    88.93\n",
       "2020-01-02  360.48    109.66    206.63    55.12    87.76\n",
       "2020-01-03  362.25    109.96    210.85    54.69    89.22\n",
       "\n",
       "[1046 rows x 5 columns]"
      ]
     },
     "execution_count": 14,
     "metadata": {},
     "output_type": "execute_result"
    }
   ],
   "source": [
    "data"
   ]
  },
  {
   "cell_type": "code",
   "execution_count": 15,
   "metadata": {},
   "outputs": [
    {
     "data": {
      "text/html": [
       "<div>\n",
       "<style scoped>\n",
       "    .dataframe tbody tr th:only-of-type {\n",
       "        vertical-align: middle;\n",
       "    }\n",
       "\n",
       "    .dataframe tbody tr th {\n",
       "        vertical-align: top;\n",
       "    }\n",
       "\n",
       "    .dataframe thead th {\n",
       "        text-align: right;\n",
       "    }\n",
       "</style>\n",
       "<table border=\"1\" class=\"dataframe\">\n",
       "  <thead>\n",
       "    <tr style=\"text-align: right;\">\n",
       "      <th></th>\n",
       "      <th>ASURB</th>\n",
       "      <th>GFNORTEO</th>\n",
       "      <th>PE&amp;OLES*</th>\n",
       "      <th>WALMEX*</th>\n",
       "      <th>IENOVA*</th>\n",
       "    </tr>\n",
       "    <tr>\n",
       "      <th>DATE</th>\n",
       "      <th></th>\n",
       "      <th></th>\n",
       "      <th></th>\n",
       "      <th></th>\n",
       "      <th></th>\n",
       "    </tr>\n",
       "  </thead>\n",
       "  <tbody>\n",
       "    <tr>\n",
       "      <th>2016-01-04</th>\n",
       "      <td>-0.022961</td>\n",
       "      <td>-0.033688</td>\n",
       "      <td>-0.007448</td>\n",
       "      <td>-0.014946</td>\n",
       "      <td>0.008847</td>\n",
       "    </tr>\n",
       "    <tr>\n",
       "      <th>2016-01-05</th>\n",
       "      <td>-0.022074</td>\n",
       "      <td>-0.000763</td>\n",
       "      <td>0.003127</td>\n",
       "      <td>-0.004202</td>\n",
       "      <td>-0.020554</td>\n",
       "    </tr>\n",
       "    <tr>\n",
       "      <th>2016-01-06</th>\n",
       "      <td>-0.004549</td>\n",
       "      <td>-0.000981</td>\n",
       "      <td>-0.021366</td>\n",
       "      <td>-0.006564</td>\n",
       "      <td>-0.007555</td>\n",
       "    </tr>\n",
       "    <tr>\n",
       "      <th>2016-01-07</th>\n",
       "      <td>-0.005432</td>\n",
       "      <td>-0.022809</td>\n",
       "      <td>0.001506</td>\n",
       "      <td>-0.056395</td>\n",
       "      <td>0.019312</td>\n",
       "    </tr>\n",
       "    <tr>\n",
       "      <th>2016-01-08</th>\n",
       "      <td>-0.004118</td>\n",
       "      <td>-0.007706</td>\n",
       "      <td>-0.003180</td>\n",
       "      <td>0.026007</td>\n",
       "      <td>-0.017148</td>\n",
       "    </tr>\n",
       "    <tr>\n",
       "      <th>...</th>\n",
       "      <td>...</td>\n",
       "      <td>...</td>\n",
       "      <td>...</td>\n",
       "      <td>...</td>\n",
       "      <td>...</td>\n",
       "    </tr>\n",
       "    <tr>\n",
       "      <th>2019-12-30</th>\n",
       "      <td>-0.005868</td>\n",
       "      <td>-0.035990</td>\n",
       "      <td>0.004562</td>\n",
       "      <td>-0.026240</td>\n",
       "      <td>-0.008777</td>\n",
       "    </tr>\n",
       "    <tr>\n",
       "      <th>2019-12-31</th>\n",
       "      <td>-0.000056</td>\n",
       "      <td>0.006190</td>\n",
       "      <td>-0.010780</td>\n",
       "      <td>-0.000554</td>\n",
       "      <td>0.022654</td>\n",
       "    </tr>\n",
       "    <tr>\n",
       "      <th>2020-01-01</th>\n",
       "      <td>0.000000</td>\n",
       "      <td>0.000000</td>\n",
       "      <td>0.000000</td>\n",
       "      <td>0.000000</td>\n",
       "      <td>0.000000</td>\n",
       "    </tr>\n",
       "    <tr>\n",
       "      <th>2020-01-02</th>\n",
       "      <td>0.018190</td>\n",
       "      <td>0.037956</td>\n",
       "      <td>0.042480</td>\n",
       "      <td>0.017913</td>\n",
       "      <td>-0.013156</td>\n",
       "    </tr>\n",
       "    <tr>\n",
       "      <th>2020-01-03</th>\n",
       "      <td>0.004910</td>\n",
       "      <td>0.002736</td>\n",
       "      <td>0.020423</td>\n",
       "      <td>-0.007801</td>\n",
       "      <td>0.016636</td>\n",
       "    </tr>\n",
       "  </tbody>\n",
       "</table>\n",
       "<p>1045 rows × 5 columns</p>\n",
       "</div>"
      ],
      "text/plain": [
       "               ASURB  GFNORTEO  PE&OLES*   WALMEX*   IENOVA*\n",
       "DATE                                                        \n",
       "2016-01-04 -0.022961 -0.033688 -0.007448 -0.014946  0.008847\n",
       "2016-01-05 -0.022074 -0.000763  0.003127 -0.004202 -0.020554\n",
       "2016-01-06 -0.004549 -0.000981 -0.021366 -0.006564 -0.007555\n",
       "2016-01-07 -0.005432 -0.022809  0.001506 -0.056395  0.019312\n",
       "2016-01-08 -0.004118 -0.007706 -0.003180  0.026007 -0.017148\n",
       "...              ...       ...       ...       ...       ...\n",
       "2019-12-30 -0.005868 -0.035990  0.004562 -0.026240 -0.008777\n",
       "2019-12-31 -0.000056  0.006190 -0.010780 -0.000554  0.022654\n",
       "2020-01-01  0.000000  0.000000  0.000000  0.000000  0.000000\n",
       "2020-01-02  0.018190  0.037956  0.042480  0.017913 -0.013156\n",
       "2020-01-03  0.004910  0.002736  0.020423 -0.007801  0.016636\n",
       "\n",
       "[1045 rows x 5 columns]"
      ]
     },
     "execution_count": 15,
     "metadata": {},
     "output_type": "execute_result"
    }
   ],
   "source": [
    "#matriz de rendimientos diarios\n",
    "rend"
   ]
  },
  {
   "cell_type": "code",
   "execution_count": 16,
   "metadata": {
    "scrolled": true
   },
   "outputs": [
    {
     "data": {
      "text/html": [
       "<div>\n",
       "<style scoped>\n",
       "    .dataframe tbody tr th:only-of-type {\n",
       "        vertical-align: middle;\n",
       "    }\n",
       "\n",
       "    .dataframe tbody tr th {\n",
       "        vertical-align: top;\n",
       "    }\n",
       "\n",
       "    .dataframe thead th {\n",
       "        text-align: right;\n",
       "    }\n",
       "</style>\n",
       "<table border=\"1\" class=\"dataframe\">\n",
       "  <thead>\n",
       "    <tr style=\"text-align: right;\">\n",
       "      <th></th>\n",
       "      <th>ASURB</th>\n",
       "      <th>GFNORTEO</th>\n",
       "      <th>PE&amp;OLES*</th>\n",
       "      <th>WALMEX*</th>\n",
       "      <th>IENOVA*</th>\n",
       "    </tr>\n",
       "  </thead>\n",
       "  <tbody>\n",
       "    <tr>\n",
       "      <th>ASURB</th>\n",
       "      <td>0.000224</td>\n",
       "      <td>0.000086</td>\n",
       "      <td>0.000061</td>\n",
       "      <td>0.000036</td>\n",
       "      <td>0.000044</td>\n",
       "    </tr>\n",
       "    <tr>\n",
       "      <th>GFNORTEO</th>\n",
       "      <td>0.000086</td>\n",
       "      <td>0.000341</td>\n",
       "      <td>0.000094</td>\n",
       "      <td>0.000082</td>\n",
       "      <td>0.000082</td>\n",
       "    </tr>\n",
       "    <tr>\n",
       "      <th>PE&amp;OLES*</th>\n",
       "      <td>0.000061</td>\n",
       "      <td>0.000094</td>\n",
       "      <td>0.000548</td>\n",
       "      <td>0.000041</td>\n",
       "      <td>0.000045</td>\n",
       "    </tr>\n",
       "    <tr>\n",
       "      <th>WALMEX*</th>\n",
       "      <td>0.000036</td>\n",
       "      <td>0.000082</td>\n",
       "      <td>0.000041</td>\n",
       "      <td>0.000215</td>\n",
       "      <td>0.000043</td>\n",
       "    </tr>\n",
       "    <tr>\n",
       "      <th>IENOVA*</th>\n",
       "      <td>0.000044</td>\n",
       "      <td>0.000082</td>\n",
       "      <td>0.000045</td>\n",
       "      <td>0.000043</td>\n",
       "      <td>0.000226</td>\n",
       "    </tr>\n",
       "  </tbody>\n",
       "</table>\n",
       "</div>"
      ],
      "text/plain": [
       "             ASURB  GFNORTEO  PE&OLES*   WALMEX*   IENOVA*\n",
       "ASURB     0.000224  0.000086  0.000061  0.000036  0.000044\n",
       "GFNORTEO  0.000086  0.000341  0.000094  0.000082  0.000082\n",
       "PE&OLES*  0.000061  0.000094  0.000548  0.000041  0.000045\n",
       "WALMEX*   0.000036  0.000082  0.000041  0.000215  0.000043\n",
       "IENOVA*   0.000044  0.000082  0.000045  0.000043  0.000226"
      ]
     },
     "execution_count": 16,
     "metadata": {},
     "output_type": "execute_result"
    }
   ],
   "source": [
    "#matriz de varianza-covarianza\n",
    "rend.cov()"
   ]
  },
  {
   "cell_type": "code",
   "execution_count": 17,
   "metadata": {},
   "outputs": [],
   "source": [
    "varcov = rend.cov()"
   ]
  },
  {
   "cell_type": "code",
   "execution_count": 20,
   "metadata": {},
   "outputs": [
    {
     "data": {
      "text/plain": [
       "array([0.06035052, 0.2063187 , 0.15563259, 0.22169601, 0.35600218])"
      ]
     },
     "execution_count": 20,
     "metadata": {},
     "output_type": "execute_result"
    }
   ],
   "source": [
    "#defino los pesos de la inversion\n",
    "weights = np.random.random(5)\n",
    "weights /= sum(weights)\n",
    "weights"
   ]
  },
  {
   "cell_type": "code",
   "execution_count": 21,
   "metadata": {},
   "outputs": [
    {
     "data": {
      "text/plain": [
       "0.9999999999999998"
      ]
     },
     "execution_count": 21,
     "metadata": {},
     "output_type": "execute_result"
    }
   ],
   "source": [
    "sum(weights)"
   ]
  },
  {
   "cell_type": "code",
   "execution_count": 22,
   "metadata": {},
   "outputs": [
    {
     "data": {
      "text/plain": [
       "0.08739600987810597"
      ]
     },
     "execution_count": 22,
     "metadata": {},
     "output_type": "execute_result"
    }
   ],
   "source": [
    "# rendimiento esperado (anualizado) de portafolio\n",
    "(rend.mean() * weights).sum() * 252"
   ]
  },
  {
   "cell_type": "code",
   "execution_count": 23,
   "metadata": {},
   "outputs": [],
   "source": [
    "E_p = (rend.mean() @ weights) * 252\n",
    "S_p = np.sqrt(weights.T @ (rend.cov() * 252) @ weights)"
   ]
  },
  {
   "cell_type": "code",
   "execution_count": 24,
   "metadata": {},
   "outputs": [
    {
     "data": {
      "text/plain": [
       "(0.08739600987810597, 0.16950333055426994)"
      ]
     },
     "execution_count": 24,
     "metadata": {},
     "output_type": "execute_result"
    }
   ],
   "source": [
    "E_p, S_p"
   ]
  },
  {
   "cell_type": "code",
   "execution_count": 26,
   "metadata": {},
   "outputs": [],
   "source": [
    "#defino funciones para calculo de rendimiento esperado y varianza\n",
    "def port_rend(weights, r):\n",
    "    E_p = (r.mean() @ weights) * 252\n",
    "    return E_p\n",
    "\n",
    "def port_vol(weights, r):\n",
    "    S_p = np.sqrt(weights.T @ (r.cov() * 252) @ weights)\n",
    "    return S_p"
   ]
  },
  {
   "cell_type": "code",
   "execution_count": 27,
   "metadata": {},
   "outputs": [
    {
     "data": {
      "text/plain": [
       "(0.08739600987810597, 0.16950333055426994)"
      ]
     },
     "execution_count": 27,
     "metadata": {},
     "output_type": "execute_result"
    }
   ],
   "source": [
    "port_rend(weights, rend), port_vol(weights, rend)"
   ]
  },
  {
   "cell_type": "code",
   "execution_count": 29,
   "metadata": {},
   "outputs": [],
   "source": [
    "weights_sim = np.random.random((5000, 5))\n",
    "weights_sim = weights_sim / weights_sim.sum(axis=1, keepdims=True)\n",
    "\n",
    "rend_sim = np.apply_along_axis(port_rend, 1, weights_sim, r=rend)\n",
    "vol_sim = np.apply_along_axis(port_vol, 1, weights_sim, r=rend)"
   ]
  },
  {
   "cell_type": "code",
   "execution_count": 31,
   "metadata": {},
   "outputs": [
    {
     "data": {
      "image/png": "[encoded data removed]",
      "text/plain": [
       "<Figure size 432x288 with 2 Axes>"
      ]
     },
     "metadata": {
      "needs_background": "light"
     },
     "output_type": "display_data"
    }
   ],
   "source": [
    "#Genero un vector que contenga el sharpe ratio para cada escenario simulado\n",
    "sharpe_ratio = rend_sim / vol_sim\n",
    "\n",
    "#lo grafico\n",
    "plt.scatter(vol_sim, rend_sim, c=sharpe_ratio)\n",
    "plt.colorbar(label=\"Sharpe Ratio\")\n",
    "plt.xlabel(r\"$\\sigma^2_r$\", fontsize=13)\n",
    "plt.ylabel(\"E(r)\", fontsize=13);"
   ]
  },
  {
   "cell_type": "markdown",
   "metadata": {},
   "source": [
    "### Creando la frontera eficiente\n",
    "\n",
    "$$\n",
    "\\begin{aligned}\n",
    "    \\min \\ &{\\bf w}^T\\Sigma {\\bf w} \\\\\n",
    "    s.t.\\ & {\\bf w}^T {\\bf 1} = 1 \\\\\n",
    "\\end{aligned}\n",
    "$$"
   ]
  },
  {
   "cell_type": "code",
   "execution_count": 33,
   "metadata": {},
   "outputs": [],
   "source": [
    "from scipy.optimize import minimize"
   ]
  },
  {
   "cell_type": "markdown",
   "metadata": {},
   "source": [
    "### Optimización sujeta a un rendimiento esperado\n",
    "\n",
    "\n",
    "$$\n",
    "\\begin{aligned}\n",
    "    \\min \\ &{\\bf w}^T\\Sigma {\\bf w} \\\\\n",
    "    s.t.\\ & {\\bf w}^T {\\bf 1} = 1 \\\\\n",
    "    &{\\bf w}^T R_p = E\n",
    "\\end{aligned}\n",
    "$$"
   ]
  },
  {
   "cell_type": "code",
   "execution_count": 38,
   "metadata": {},
   "outputs": [],
   "source": [
    "#Definino las funciones que utilizaremos para los contraints de la optimizaciòn\n",
    "\n",
    "N, M = rend.shape\n",
    "w0  = np.random.randn(M)\n",
    "\n",
    "def sum_weights(weights):\n",
    "    return weights.sum() - 1 # == 0\n",
    "\n",
    "def rend_esperado(w, E):\n",
    "    return port_rend(w, rend) - E # == 0\n",
    "\n",
    "def neg_weights(weights):\n",
    "    return min(weights) #sin ventas en corto\n"
   ]
  },
  {
   "cell_type": "code",
   "execution_count": 39,
   "metadata": {
    "scrolled": true
   },
   "outputs": [
    {
     "data": {
      "text/plain": [
       "array([0.07881127, 0.07972409, 0.08063691, 0.08154972, 0.08246254,\n",
       "       0.08337536, 0.08428817, 0.08520099, 0.0861138 , 0.08702662,\n",
       "       0.08793944, 0.08885225, 0.08976507, 0.09067789, 0.0915907 ,\n",
       "       0.09250352, 0.09341633, 0.09432915, 0.09524197, 0.09615478,\n",
       "       0.0970676 , 0.09798041, 0.09889323, 0.09980605, 0.10071886,\n",
       "       0.10163168, 0.1025445 , 0.10345731, 0.10437013, 0.10528294,\n",
       "       0.10619576, 0.10710858, 0.10802139, 0.10893421, 0.10984702,\n",
       "       0.11075984, 0.11167266, 0.11258547, 0.11349829, 0.11441111,\n",
       "       0.11532392, 0.11623674, 0.11714955, 0.11806237, 0.11897519,\n",
       "       0.119888  , 0.12080082, 0.12171364, 0.12262645, 0.12353927])"
      ]
     },
     "execution_count": 39,
     "metadata": {},
     "output_type": "execute_result"
    }
   ],
   "source": [
    "#defino rango sobre el cual genrao la frontera (los limites son los mínimos y máximos del portafolio inicial)\n",
    "#es decir, defino mi domino (eje x) para evaluar y graficar la funcion\n",
    "rmin = rend_ports.min()\n",
    "rmax = rend_ports.max()\n",
    "rend_maxs = np.linspace(rmin,rmax)\n",
    "rend_maxs"
   ]
  },
  {
   "cell_type": "code",
   "execution_count": 44,
   "metadata": {},
   "outputs": [],
   "source": [
    "pesos_optimos = []\n",
    "N, M = rend.shape\n",
    "w_opt = np.random.randn(M)\n",
    "\n",
    "for e in rend_maxs: #para cada uno de los rendimiento que voy a evaluar y graficar en el eje x\n",
    "    constraints = [\n",
    "        {\"type\": \"eq\", \"fun\": sum_weights},\n",
    "        {\"type\": \"eq\", \"fun\": lambda w: rend_esperado(w, e)},\n",
    "        {\"type\": \"ineq\", \"fun\": neg_weights}\n",
    "    ]\n",
    "\n",
    "    port1 = minimize(port_vol, w0, constraints=constraints, args=rend)\n",
    "    w_opt = port1.x\n",
    "    pesos_optimos.append(w_opt)\n",
    "    \n",
    "pesos_optimos"
   ]
  },
  {
   "cell_type": "code",
   "execution_count": 45,
   "metadata": {},
   "outputs": [
    {
     "data": {
      "text/plain": [
       "array([ 9.99999993e-01,  1.33627918e-17,  3.98781724e-08, -2.83912106e-07,\n",
       "        2.50894506e-07])"
      ]
     },
     "execution_count": 45,
     "metadata": {},
     "output_type": "execute_result"
    }
   ],
   "source": [
    "w_opt"
   ]
  },
  {
   "cell_type": "code",
   "execution_count": 46,
   "metadata": {},
   "outputs": [
    {
     "data": {
      "text/plain": [
       "<matplotlib.colorbar.Colorbar at 0x1e54c2d5988>"
      ]
     },
     "execution_count": 46,
     "metadata": {},
     "output_type": "execute_result"
    },
    {
     "data": {
      "image/png": "[encoded data removed]",
      "text/plain": [
       "<Figure size 432x288 with 2 Axes>"
      ]
     },
     "metadata": {
      "needs_background": "light"
     },
     "output_type": "display_data"
    }
   ],
   "source": [
    "r_opt = []\n",
    "v_opt = []\n",
    "for w in pesos_optimos:\n",
    "    r_opt.append(port_rend(w, rend))\n",
    "    v_opt.append(port_vol(w, rend))\n",
    "\n",
    "r_opt = np.array(r_opt)\n",
    "v_opt = np.array(v_opt)\n",
    "\n",
    "plt.scatter(v_opt, r_opt, c=r_opt)\n",
    "plt.colorbar()"
   ]
  },
  {
   "cell_type": "code",
   "execution_count": 49,
   "metadata": {
    "scrolled": true
   },
   "outputs": [
    {
     "data": {
      "image/png": "[encoded data removed]",
      "text/plain": [
       "<Figure size 432x288 with 2 Axes>"
      ]
     },
     "metadata": {
      "needs_background": "light"
     },
     "output_type": "display_data"
    }
   ],
   "source": [
    "plt.scatter(v_opt,r_opt, c= \"black\",alpha=.5)\n",
    "plt.scatter(vol_sim, rend_sim, c=sharpe_ratio, alpha = 0.5)\n",
    "plt.colorbar(label=\"Sharpe Ratio\",)\n",
    "plt.xlabel(r\"$\\sigma^2_r$\", fontsize=13)\n",
    "plt.ylabel(\"E(r)\",fontsize=13);"
   ]
  },
  {
   "cell_type": "markdown",
   "metadata": {},
   "source": [
    "### Portafolio Tangencial\n",
    "\n",
    "$$\n",
    "    \\mathbb{E}[R_C] = R_f + \\frac{\\mathbb{E}[R_p] - R_f}{\\sigma_P}\\sigma_C\n",
    "$$\n",
    "\n",
    "$$\n",
    "\\frac{\\mathbb{E}[R_p] - R_f}{\\sigma_P}\n",
    "$$"
   ]
  },
  {
   "cell_type": "code",
   "execution_count": 63,
   "metadata": {},
   "outputs": [
    {
     "data": {
      "text/plain": [
       "array([ 9.99999993e-01,  1.33627918e-17,  3.98781724e-08, -2.83912106e-07,\n",
       "        2.50894506e-07])"
      ]
     },
     "execution_count": 63,
     "metadata": {},
     "output_type": "execute_result"
    }
   ],
   "source": [
    "#Selecciono los pesos del portafolio que genere el mayor rendimiento\n",
    "pesos = pesos_optimos[r_opt.argmax()]\n",
    "pesos"
   ]
  },
  {
   "cell_type": "code",
   "execution_count": 51,
   "metadata": {},
   "outputs": [],
   "source": [
    "rf = 0.06\n",
    "\n",
    "def min_func_sharpe(weights):\n",
    "    return - (port_rend(weights, rend) - rf) / port_vol(weights, rend)\n",
    "\n",
    "constraints = [\n",
    "    {\"type\": \"eq\", \"fun\": sum_weights}\n",
    "]\n",
    "\n",
    "f_sharpe = minimize(min_func_sharpe, w0, constraints=constraints) #argumentos:la funcion a minimizar, una semilla que le debo de meter\n",
    "#como variable independiente (una valor de esta variable independiente es el que busca para minimiazar la funcion),\n",
    "#y al final las restricciones o contraints\n",
    "#por lo tanto aqui me aaroja las w (pesos) que maximizan(o minimizan con signo negativo en el return de la funcion) la funcion"
   ]
  },
  {
   "cell_type": "code",
   "execution_count": 52,
   "metadata": {
    "scrolled": true
   },
   "outputs": [
    {
     "data": {
      "text/plain": [
       "     fun: -0.29185215088346483\n",
       "     jac: array([-0.30316104, -0.30280036, -0.30284748, -0.30308822, -0.30292708])\n",
       " message: 'Optimization terminated successfully.'\n",
       "    nfev: 250\n",
       "     nit: 34\n",
       "    njev: 34\n",
       "  status: 0\n",
       " success: True\n",
       "       x: array([ 0.73024578, -0.14005511,  0.17638075,  0.16452531,  0.06890327])"
      ]
     },
     "execution_count": 52,
     "metadata": {},
     "output_type": "execute_result"
    }
   ],
   "source": [
    "f_sharpe  #el vector o valor de la variable independiente(en este caso los pesos) que maximizan la funcion es el que dice x:"
   ]
  },
  {
   "cell_type": "code",
   "execution_count": 53,
   "metadata": {},
   "outputs": [],
   "source": [
    "w_sharpe = f_sharpe.x  #le asigno el valor del array que dice x:, son los pesos  optimos para sharpe"
   ]
  },
  {
   "cell_type": "code",
   "execution_count": 54,
   "metadata": {
    "scrolled": true
   },
   "outputs": [
    {
     "data": {
      "text/plain": [
       "<matplotlib.legend.Legend at 0x1e54e2fc608>"
      ]
     },
     "execution_count": 54,
     "metadata": {},
     "output_type": "execute_result"
    },
    {
     "data": {
      "image/png": "[encoded data removed]",
      "text/plain": [
       "<Figure size 432x288 with 1 Axes>"
      ]
     },
     "metadata": {
      "needs_background": "light"
     },
     "output_type": "display_data"
    }
   ],
   "source": [
    "e_sharpe = port_rend(w_sharpe, rend)\n",
    "vol_sharpe = port_vol(w_sharpe, rend)\n",
    "\n",
    "sigma_c =  np.linspace(0, 0.25)\n",
    "sharpe = rf + sigma_c * (e_sharpe - rf) / vol_sharpe\n",
    "\n",
    "plt.plot(sigma_c, sharpe, linestyle=\"--\", c=\"tab:orange\", label=\"Capital Allocation Line\")\n",
    "plt.plot(v_opt, r_opt)\n",
    "plt.legend(fontsize=12)"
   ]
  },
  {
   "cell_type": "code",
   "execution_count": 55,
   "metadata": {},
   "outputs": [
    {
     "data": {
      "text/plain": [
       "0.06"
      ]
     },
     "execution_count": 55,
     "metadata": {},
     "output_type": "execute_result"
    }
   ],
   "source": [
    "rf"
   ]
  },
  {
   "cell_type": "code",
   "execution_count": 56,
   "metadata": {
    "scrolled": true
   },
   "outputs": [
    {
     "data": {
      "text/plain": [
       "0.11776807100410697"
      ]
     },
     "execution_count": 56,
     "metadata": {},
     "output_type": "execute_result"
    }
   ],
   "source": [
    "e_sharpe"
   ]
  },
  {
   "cell_type": "code",
   "execution_count": 57,
   "metadata": {},
   "outputs": [
    {
     "data": {
      "text/plain": [
       "0.19793608109187272"
      ]
     },
     "execution_count": 57,
     "metadata": {},
     "output_type": "execute_result"
    }
   ],
   "source": [
    "vol_sharpe"
   ]
  },
  {
   "cell_type": "code",
   "execution_count": 58,
   "metadata": {},
   "outputs": [
    {
     "data": {
      "text/plain": [
       "0.47563766345358843"
      ]
     },
     "execution_count": 58,
     "metadata": {},
     "output_type": "execute_result"
    }
   ],
   "source": [
    "A=3.1\n",
    "y_star= (e_sharpe-rf)/(A*vol_sharpe**2)\n",
    "y_star"
   ]
  },
  {
   "cell_type": "code",
   "execution_count": 59,
   "metadata": {},
   "outputs": [],
   "source": [
    "E_util = rf+y_star*(e_sharpe-rf)\n",
    "V_util = y_star*vol_sharpe"
   ]
  },
  {
   "cell_type": "code",
   "execution_count": 60,
   "metadata": {},
   "outputs": [
    {
     "name": "stdout",
     "output_type": "stream",
     "text": [
      "E[u]=0.0875\n",
      "V[u]=0.198\n"
     ]
    }
   ],
   "source": [
    "print(f\"E[u]={E_util:0.3}\")\n",
    "print(f\"V[u]={vol_sharpe:0.3}\")"
   ]
  },
  {
   "cell_type": "code",
   "execution_count": 67,
   "metadata": {},
   "outputs": [],
   "source": [
    "def port_rend(weights):\n",
    "    return np.sum(rend.mean()*weights)*252"
   ]
  },
  {
   "cell_type": "code",
   "execution_count": 68,
   "metadata": {},
   "outputs": [],
   "source": [
    "def port_vol(weights):\n",
    "    return np.sqrt(np.dot(weights.T, np.dot(rend.cov()*252,weights)))"
   ]
  },
  {
   "cell_type": "code",
   "execution_count": 65,
   "metadata": {},
   "outputs": [],
   "source": [
    "S=10000000\n",
    "weights=w_sharpe"
   ]
  },
  {
   "cell_type": "code",
   "execution_count": 66,
   "metadata": {},
   "outputs": [
    {
     "data": {
      "text/plain": [
       "1.0"
      ]
     },
     "execution_count": 66,
     "metadata": {},
     "output_type": "execute_result"
    }
   ],
   "source": [
    "weights.sum()"
   ]
  },
  {
   "cell_type": "code",
   "execution_count": 73,
   "metadata": {},
   "outputs": [
    {
     "data": {
      "text/plain": [
       "[0.23747683132280767,\n",
       " 0.2932968797198881,\n",
       " 0.3715522629370927,\n",
       " 0.2328565568585489,\n",
       " 0.23842444015669614]"
      ]
     },
     "execution_count": 73,
     "metadata": {},
     "output_type": "execute_result"
    }
   ],
   "source": [
    "#Calculo las colatilidades anuales de cada accion\n",
    "vols_anuales =[]\n",
    "for i in range(5):\n",
    "    vols_anuales.append((np.sqrt(varcov.iloc[i,i]))*np.sqrt(252))\n",
    "    \n",
    "vols_anuales"
   ]
  },
  {
   "cell_type": "code",
   "execution_count": 71,
   "metadata": {
    "scrolled": true
   },
   "outputs": [
    {
     "data": {
      "text/plain": [
       "[7302457.804583293,\n",
       " -1400551.093585916,\n",
       " 1763807.5002708987,\n",
       " 1645253.0825640054,\n",
       " 689032.7061677191]"
      ]
     },
     "execution_count": 71,
     "metadata": {},
     "output_type": "execute_result"
    }
   ],
   "source": [
    "#calculo el vector de posiciones para cada accion\n",
    "vector_posiciones =[]\n",
    "for i in range(5):\n",
    "    vector_posiciones.append(S*weights[i])\n",
    "    \n",
    "vector_posiciones"
   ]
  },
  {
   "cell_type": "code",
   "execution_count": 72,
   "metadata": {
    "scrolled": true
   },
   "outputs": [
    {
     "data": {
      "text/plain": [
       "10000000.0"
      ]
     },
     "execution_count": 72,
     "metadata": {},
     "output_type": "execute_result"
    }
   ],
   "source": [
    "sum(vector_posiciones)"
   ]
  },
  {
   "cell_type": "code",
   "execution_count": 77,
   "metadata": {},
   "outputs": [
    {
     "data": {
      "text/plain": [
       "[4040603.3789012064,\n",
       " -957111.028934271,\n",
       " 1526957.7366987912,\n",
       " 892641.5653625699,\n",
       " 382777.6127172217]"
      ]
     },
     "execution_count": 77,
     "metadata": {},
     "output_type": "execute_result"
    }
   ],
   "source": [
    "var_individual_diario_95 = []\n",
    "for i in range(5):\n",
    "    var_individual_diario_95.append(1.65*vector_posiciones[i]*(vols_anuales[i]*(1/np.sqrt(252))))\n",
    "    \n",
    "var_individual_diario_99 = []\n",
    "for i in range(5):\n",
    "    var_individual_diario_99.append(2.33*vector_posiciones[i]*(vols_anuales[i]*(1/np.sqrt(252))))\n",
    "    \n",
    "var_individual_anual_95 = []\n",
    "for i in range(5):\n",
    "    var_individual_anual_95.append(1.65*vector_posiciones[i]*(vols_anuales[i]))\n",
    "    \n",
    "var_individual_anual_99 = []\n",
    "for i in range(5):\n",
    "    var_individual_anual_99.append(2.33*vector_posiciones[i]*(vols_anuales[i]))\n",
    "    \n",
    "        \n",
    "var_individual_diario_95\n",
    "var_individual_diario_99\n",
    "var_individual_anual_95\n",
    "var_individual_anual_99"
   ]
  },
  {
   "cell_type": "code",
   "execution_count": 78,
   "metadata": {},
   "outputs": [],
   "source": [
    "total_var_individual_diario_95=sum(var_individual_diario_95)\n",
    "total_var_individual_diario_99=sum(var_individual_diario_99)\n",
    "total_var_individual_anual_95=sum(var_individual_anual_95)\n",
    "total_var_individual_anual_99=sum(var_individual_anual_99)"
   ]
  },
  {
   "cell_type": "code",
   "execution_count": 82,
   "metadata": {},
   "outputs": [
    {
     "name": "stdout",
     "output_type": "stream",
     "text": [
      "el var total individual diario al 95 = 262565.92514332855\n",
      "el var total individual diario al 99 = 370774.9124751245\n",
      "el var total individual diario al 95 = 4168104.844133092\n",
      "el var total individual diario al 99 = 5885869.264745518\n"
     ]
    }
   ],
   "source": [
    "print(f\"el var total individual diario al 95 = {total_var_individual_diario_95}\")\n",
    "print(f\"el var total individual diario al 99 = {total_var_individual_diario_99}\")\n",
    "print(f\"el var total individual diario al 95 = {total_var_individual_anual_95}\")\n",
    "print(f\"el var total individual diario al 99 = {total_var_individual_anual_99}\")"
   ]
  },
  {
   "cell_type": "code",
   "execution_count": 90,
   "metadata": {
    "scrolled": false
   },
   "outputs": [
    {
     "name": "stdout",
     "output_type": "stream",
     "text": [
      "VaR diario al 95 = 205,735.22\n",
      "VaR diario al 99 = 290,523.07\n",
      "VaR anual al 95 = 3,265,945.34\n",
      "VaR anual al 99 = 4,611,910.69\n"
     ]
    }
   ],
   "source": [
    "#Cálculo de VaR diario del portafolio al 95%\n",
    "S=10000000\n",
    "F=1.65  #la ordenada al orgien del percentil 95 N(0,1)\n",
    "VAR_diario_95= S*F*port_vol(weights)*1/np.sqrt(252)\n",
    "print(f\"VaR diario al 95 = {VAR_diario_95:,.2f}\")\n",
    "\n",
    "#Cálculo de VaR diario del portafolio al 99%\n",
    "S=10000000\n",
    "F=2.33  #la ordenada al orgien del percentil 99 N(0,1)\n",
    "VAR_diario_99= S*F*port_vol(weights)*1/np.sqrt(252)\n",
    "print(f\"VaR diario al 99 = {VAR_diario_99:,.2f}\")\n",
    "\n",
    "#Cálculo de VaR anual del portafolio al 95%\n",
    "S=10000000\n",
    "F=1.65  #la ordenada al orgien del percentil 95 N(0,1)\n",
    "VAR_anual_95= S*F*port_vol(weights)\n",
    "print(f\"VaR anual al 95 = {VAR_anual_95:,.2f}\")\n",
    "\n",
    "#Cálculo de VaR anual del portafolio al 99%\n",
    "S=10000000\n",
    "F=2.33  #la ordenada al orgien del percentil 99 N(0,1)\n",
    "VAR_anual_99= S*F*port_vol(weights)\n",
    "print(f\"VaR anual al 99 = {VAR_anual_99:,.2f}\")"
   ]
  },
  {
   "cell_type": "code",
   "execution_count": null,
   "metadata": {},
   "outputs": [],
   "source": [
    "#Efecto de diversificacion"
   ]
  },
  {
   "cell_type": "code",
   "execution_count": 91,
   "metadata": {
    "scrolled": true
   },
   "outputs": [
    {
     "name": "stdout",
     "output_type": "stream",
     "text": [
      "efecto de diversificacion diario al 95 = 56830.70704997488\n",
      "efecto de diversificacion diario al 99 = 80251.84692511603\n",
      "efecto de diversificacion anual al 95 = 902159.5061171921\n",
      "efecto de diversificacion anual al 99 = -443805.845307542\n"
     ]
    }
   ],
   "source": [
    "print(f\"efecto de diversificacion diario al 95 = {total_var_individual_diario_95-VAR_diario_95}\")\n",
    "print(f\"efecto de diversificacion diario al 99 = {total_var_individual_diario_99-VAR_diario_99}\")\n",
    "print(f\"efecto de diversificacion anual al 95 = {total_var_individual_anual_95-VAR_anual_95}\")\n",
    "print(f\"efecto de diversificacion anual al 99 = {total_var_individual_anual_95-VAR_anual_99}\")"
   ]
  }
 ],
 "metadata": {
  "kernelspec": {
   "display_name": "Python 3",
   "language": "python",
   "name": "python3"
  },
  "language_info": {
   "codemirror_mode": {
    "name": "ipython",
    "version": 3
   },
   "file_extension": ".py",
   "mimetype": "text/x-python",
   "name": "python",
   "nbconvert_exporter": "python",
   "pygments_lexer": "ipython3",
   "version": "3.7.6"
  }
 },
 "nbformat": 4,
 "nbformat_minor": 4
}
