{
 "cells": [
  {
   "cell_type": "markdown",
   "metadata": {},
   "source": [
    "\n",
    "Sea y(x,D) = y, \n",
    "    E[t|x] = s,\n",
    "    e = epsilon\n",
    "\n",
    "\n",
    "$$ \\displaystyle\\int\\displaystyle\\int {(y(\\bar{x}) - {E[t|x]} + E[t|x] - t)}^{2}, d\\bar{x}dt$$\n",
    "$$ \\displaystyle\\int\\displaystyle\\int {E[{y}^{2}] + E[{s}^{2}] - 2E[ys]}, d\\bar{x}dt$$\n",
    "$$ \\displaystyle\\int\\displaystyle\\int {E[{y}]^{2} + E[{s}]^{2} - 2E[ys] + Var[y] + Var[s]}, d\\bar{x}dt$$\n",
    "$$ \\displaystyle\\int\\displaystyle\\int {E[{y}]^{2} - E[{s}]^{2}  + Var[y] + Var[s] - 2E[e]E[s] - 2E[ys]}, d\\bar{x}dt$$\n",
    "$$ \\displaystyle\\int\\displaystyle\\int {E[{y}]^{2} - E[{s}]^{2}  + Var[y] + Var[s] - 2E[e]E[s] - 2E[y]E[s] - 2Cov[y,s]}, d\\bar{x}dt$$\n",
    "$$ \\displaystyle\\int\\displaystyle\\int {E[{y}]^{2} - E[{s}]^{2}  + Var[y]+Var[s] + Var[e] - 2E[e]E[s] - 2E[y]E[s] - 2Cov[y,s]}, d\\bar{x}dt$$\n",
    "$$ \\displaystyle\\int\\displaystyle\\int {E[{y}]^{2} - E[{s}]^{2}  + Var[y-s] + Var[e] - 2E[e]E[s] - 2E[y]E[s]}, d\\bar{x}dt$$\n",
    "$$ \\displaystyle\\int\\displaystyle\\int {E[{y}]^{2} - E[{s}]^{2}  + E[{e}]^{2} + Var[y-s] + Var[e] + 2E[e]E[y] - 2E[e]E[s] - 2E[y]E[s]}, d\\bar{x}dt$$\n",
    "$$ \\displaystyle\\int\\displaystyle\\int {[E[{y}] - E[{s}]]^{2}  + E[{e}]^{2} + Var[y-s] + Var[e] + 2E[e]E[y] - 2E[e]E[s]}, d\\bar{x}dt$$\n",
    "Asumiendo que \"e\" tiene media = 0\n",
    "$$ \\displaystyle\\int\\displaystyle\\int {[E[{y}] - E[{s}]]^{2}  + E[{e}]^{2} + Var[y-s] + Var[e]}, d\\bar{x}dt$$\n",
    "$$ E[L] = \\displaystyle\\int [y(x,D) - {E[t|x]}^{2} + V_t[t|x]] P(x),dx $$\n",
    "\n",
    "\n",
    "\n",
    "$$ E[L] = \\displaystyle\\int\\displaystyle\\int ({[E_D[y(x,D)]-E[t|x]]}^{2} + V_t[t|x])   P(x) dx $$\n",
    "\n",
    "$$ =\\displaystyle\\int ({[E_D[y(x,D)]-E[t|x]]}^{2} + V_D[y(x|D)] + V_t[t|x])   P(x) dx $$\n",
    "\n",
    "\n"
   ]
  },
  {
   "cell_type": "code",
   "execution_count": null,
   "metadata": {},
   "outputs": [],
   "source": []
  }
 ],
 "metadata": {
  "kernelspec": {
   "display_name": "Python 3",
   "language": "python",
   "name": "python3"
  },
  "language_info": {
   "codemirror_mode": {
    "name": "ipython",
    "version": 3
   },
   "file_extension": ".py",
   "mimetype": "text/x-python",
   "name": "python",
   "nbconvert_exporter": "python",
   "pygments_lexer": "ipython3",
   "version": "3.7.6"
  }
 },
 "nbformat": 4,
 "nbformat_minor": 2
}
