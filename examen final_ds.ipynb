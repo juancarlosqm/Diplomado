{
 "cells": [
  {
   "cell_type": "code",
   "execution_count": 77,
   "metadata": {},
   "outputs": [],
   "source": [
    "import pandas as pd\n",
    "import numpy as np\n",
    "import matplotlib.pyplot as plt\n",
    "import seaborn as sns\n",
    "from scipy import stats\n",
    "import statsmodels.api as sm\n",
    "from statsmodels import regression\n",
    "from scipy.optimize import minimize"
   ]
  },
  {
   "cell_type": "code",
   "execution_count": 78,
   "metadata": {
    "scrolled": true
   },
   "outputs": [
    {
     "data": {
      "text/html": [
       "<div>\n",
       "<style scoped>\n",
       "    .dataframe tbody tr th:only-of-type {\n",
       "        vertical-align: middle;\n",
       "    }\n",
       "\n",
       "    .dataframe tbody tr th {\n",
       "        vertical-align: top;\n",
       "    }\n",
       "\n",
       "    .dataframe thead th {\n",
       "        text-align: right;\n",
       "    }\n",
       "</style>\n",
       "<table border=\"1\" class=\"dataframe\">\n",
       "  <thead>\n",
       "    <tr style=\"text-align: right;\">\n",
       "      <th></th>\n",
       "      <th>KIMBERA</th>\n",
       "      <th>GAPB</th>\n",
       "      <th>CEMEXCPO</th>\n",
       "      <th>ASURB</th>\n",
       "      <th>GFNORTEO</th>\n",
       "      <th>KOFUBL</th>\n",
       "      <th>AC*</th>\n",
       "      <th>LABB</th>\n",
       "      <th>FEMSAUBD</th>\n",
       "      <th>OMAB</th>\n",
       "      <th>...</th>\n",
       "      <th>MEGACPO</th>\n",
       "      <th>GCC*</th>\n",
       "      <th>BIMBOA</th>\n",
       "      <th>GMEXICOB</th>\n",
       "      <th>GCARSOA1</th>\n",
       "      <th>TLEVICPO</th>\n",
       "      <th>ALFAA</th>\n",
       "      <th>BSMXB</th>\n",
       "      <th>PINFRA*</th>\n",
       "      <th>MEXBOL</th>\n",
       "    </tr>\n",
       "    <tr>\n",
       "      <th>DATE</th>\n",
       "      <th></th>\n",
       "      <th></th>\n",
       "      <th></th>\n",
       "      <th></th>\n",
       "      <th></th>\n",
       "      <th></th>\n",
       "      <th></th>\n",
       "      <th></th>\n",
       "      <th></th>\n",
       "      <th></th>\n",
       "      <th></th>\n",
       "      <th></th>\n",
       "      <th></th>\n",
       "      <th></th>\n",
       "      <th></th>\n",
       "      <th></th>\n",
       "      <th></th>\n",
       "      <th></th>\n",
       "      <th></th>\n",
       "      <th></th>\n",
       "      <th></th>\n",
       "    </tr>\n",
       "  </thead>\n",
       "  <tbody>\n",
       "    <tr>\n",
       "      <th>2016-01-01</th>\n",
       "      <td>40.37</td>\n",
       "      <td>152.05</td>\n",
       "      <td>8.72</td>\n",
       "      <td>243.89</td>\n",
       "      <td>94.99</td>\n",
       "      <td>123.90</td>\n",
       "      <td>104.68</td>\n",
       "      <td>13.85</td>\n",
       "      <td>161.63</td>\n",
       "      <td>83.61</td>\n",
       "      <td>...</td>\n",
       "      <td>64.19</td>\n",
       "      <td>44.81</td>\n",
       "      <td>45.95</td>\n",
       "      <td>36.79</td>\n",
       "      <td>70.98</td>\n",
       "      <td>94.34</td>\n",
       "      <td>34.10</td>\n",
       "      <td>30.25</td>\n",
       "      <td>202.73</td>\n",
       "      <td>42977.50</td>\n",
       "    </tr>\n",
       "    <tr>\n",
       "      <th>2016-01-04</th>\n",
       "      <td>39.16</td>\n",
       "      <td>148.57</td>\n",
       "      <td>8.43</td>\n",
       "      <td>238.29</td>\n",
       "      <td>91.79</td>\n",
       "      <td>120.29</td>\n",
       "      <td>102.09</td>\n",
       "      <td>14.41</td>\n",
       "      <td>157.62</td>\n",
       "      <td>81.77</td>\n",
       "      <td>...</td>\n",
       "      <td>64.45</td>\n",
       "      <td>43.51</td>\n",
       "      <td>45.02</td>\n",
       "      <td>35.71</td>\n",
       "      <td>69.83</td>\n",
       "      <td>92.62</td>\n",
       "      <td>33.74</td>\n",
       "      <td>29.46</td>\n",
       "      <td>202.93</td>\n",
       "      <td>42113.70</td>\n",
       "    </tr>\n",
       "    <tr>\n",
       "      <th>2016-01-05</th>\n",
       "      <td>38.89</td>\n",
       "      <td>147.93</td>\n",
       "      <td>8.31</td>\n",
       "      <td>233.03</td>\n",
       "      <td>91.72</td>\n",
       "      <td>118.82</td>\n",
       "      <td>101.12</td>\n",
       "      <td>13.77</td>\n",
       "      <td>157.80</td>\n",
       "      <td>81.58</td>\n",
       "      <td>...</td>\n",
       "      <td>63.16</td>\n",
       "      <td>43.51</td>\n",
       "      <td>45.77</td>\n",
       "      <td>36.45</td>\n",
       "      <td>70.70</td>\n",
       "      <td>91.89</td>\n",
       "      <td>33.99</td>\n",
       "      <td>29.72</td>\n",
       "      <td>203.56</td>\n",
       "      <td>42041.68</td>\n",
       "    </tr>\n",
       "    <tr>\n",
       "      <th>2016-01-06</th>\n",
       "      <td>39.13</td>\n",
       "      <td>146.99</td>\n",
       "      <td>8.29</td>\n",
       "      <td>231.97</td>\n",
       "      <td>91.63</td>\n",
       "      <td>120.32</td>\n",
       "      <td>102.50</td>\n",
       "      <td>13.65</td>\n",
       "      <td>156.37</td>\n",
       "      <td>82.03</td>\n",
       "      <td>...</td>\n",
       "      <td>63.27</td>\n",
       "      <td>43.51</td>\n",
       "      <td>45.97</td>\n",
       "      <td>35.57</td>\n",
       "      <td>70.47</td>\n",
       "      <td>90.41</td>\n",
       "      <td>33.65</td>\n",
       "      <td>29.67</td>\n",
       "      <td>199.80</td>\n",
       "      <td>41691.19</td>\n",
       "    </tr>\n",
       "    <tr>\n",
       "      <th>2016-01-07</th>\n",
       "      <td>39.16</td>\n",
       "      <td>141.32</td>\n",
       "      <td>7.64</td>\n",
       "      <td>230.71</td>\n",
       "      <td>89.54</td>\n",
       "      <td>120.20</td>\n",
       "      <td>101.16</td>\n",
       "      <td>13.25</td>\n",
       "      <td>155.14</td>\n",
       "      <td>80.94</td>\n",
       "      <td>...</td>\n",
       "      <td>62.78</td>\n",
       "      <td>42.76</td>\n",
       "      <td>46.18</td>\n",
       "      <td>35.01</td>\n",
       "      <td>68.15</td>\n",
       "      <td>90.23</td>\n",
       "      <td>31.46</td>\n",
       "      <td>28.50</td>\n",
       "      <td>196.75</td>\n",
       "      <td>40661.57</td>\n",
       "    </tr>\n",
       "  </tbody>\n",
       "</table>\n",
       "<p>5 rows × 36 columns</p>\n",
       "</div>"
      ],
      "text/plain": [
       "            KIMBERA    GAPB  CEMEXCPO   ASURB  GFNORTEO  KOFUBL     AC*  \\\n",
       "DATE                                                                      \n",
       "2016-01-01    40.37  152.05      8.72  243.89     94.99  123.90  104.68   \n",
       "2016-01-04    39.16  148.57      8.43  238.29     91.79  120.29  102.09   \n",
       "2016-01-05    38.89  147.93      8.31  233.03     91.72  118.82  101.12   \n",
       "2016-01-06    39.13  146.99      8.29  231.97     91.63  120.32  102.50   \n",
       "2016-01-07    39.16  141.32      7.64  230.71     89.54  120.20  101.16   \n",
       "\n",
       "             LABB  FEMSAUBD   OMAB  ...  MEGACPO   GCC*  BIMBOA  GMEXICOB  \\\n",
       "DATE                                ...                                     \n",
       "2016-01-01  13.85    161.63  83.61  ...    64.19  44.81   45.95     36.79   \n",
       "2016-01-04  14.41    157.62  81.77  ...    64.45  43.51   45.02     35.71   \n",
       "2016-01-05  13.77    157.80  81.58  ...    63.16  43.51   45.77     36.45   \n",
       "2016-01-06  13.65    156.37  82.03  ...    63.27  43.51   45.97     35.57   \n",
       "2016-01-07  13.25    155.14  80.94  ...    62.78  42.76   46.18     35.01   \n",
       "\n",
       "            GCARSOA1  TLEVICPO  ALFAA  BSMXB  PINFRA*    MEXBOL  \n",
       "DATE                                                             \n",
       "2016-01-01     70.98     94.34  34.10  30.25   202.73  42977.50  \n",
       "2016-01-04     69.83     92.62  33.74  29.46   202.93  42113.70  \n",
       "2016-01-05     70.70     91.89  33.99  29.72   203.56  42041.68  \n",
       "2016-01-06     70.47     90.41  33.65  29.67   199.80  41691.19  \n",
       "2016-01-07     68.15     90.23  31.46  28.50   196.75  40661.57  \n",
       "\n",
       "[5 rows x 36 columns]"
      ]
     },
     "execution_count": 78,
     "metadata": {},
     "output_type": "execute_result"
    }
   ],
   "source": [
    "#importo insumos de precios y limpio nombre de columnas\n",
    "market = pd.read_excel(\"Prueba.xlsx\", index_col=0)\n",
    "market.columns =[c.replace(\" MF Equity\",\"\").replace(\" INDEX\",\"\") for c in market.columns]\n",
    "market.head()"
   ]
  },
  {
   "cell_type": "code",
   "execution_count": 79,
   "metadata": {},
   "outputs": [
    {
     "data": {
      "text/plain": [
       "Index(['KIMBERA', 'GAPB', 'CEMEXCPO', 'ASURB', 'GFNORTEO', 'KOFUBL', 'AC*',\n",
       "       'LABB', 'FEMSAUBD', 'OMAB', 'GFINBURO', 'AMXL', 'ALSEA*', 'ORBIA*',\n",
       "       'PE&OLES*', 'GRUMAB', 'RA', 'WALMEX*', 'BOLSAA', 'LIVEPOLC', 'GENTERA*',\n",
       "       'IENOVA*', 'CUERVO*', 'ELEKTRA*', 'BBAJIOO', 'ALPEKA', 'MEGACPO',\n",
       "       'GCC*', 'BIMBOA', 'GMEXICOB', 'GCARSOA1', 'TLEVICPO', 'ALFAA', 'BSMXB',\n",
       "       'PINFRA*', 'MEXBOL'],\n",
       "      dtype='object')"
      ]
     },
     "execution_count": 79,
     "metadata": {},
     "output_type": "execute_result"
    }
   ],
   "source": [
    "market.columns"
   ]
  },
  {
   "cell_type": "code",
   "execution_count": 80,
   "metadata": {
    "scrolled": true
   },
   "outputs": [
    {
     "data": {
      "text/html": [
       "<div>\n",
       "<style scoped>\n",
       "    .dataframe tbody tr th:only-of-type {\n",
       "        vertical-align: middle;\n",
       "    }\n",
       "\n",
       "    .dataframe tbody tr th {\n",
       "        vertical-align: top;\n",
       "    }\n",
       "\n",
       "    .dataframe thead th {\n",
       "        text-align: right;\n",
       "    }\n",
       "</style>\n",
       "<table border=\"1\" class=\"dataframe\">\n",
       "  <thead>\n",
       "    <tr style=\"text-align: right;\">\n",
       "      <th></th>\n",
       "      <th>KIMBERA</th>\n",
       "      <th>GAPB</th>\n",
       "      <th>CEMEXCPO</th>\n",
       "      <th>ASURB</th>\n",
       "      <th>GFNORTEO</th>\n",
       "      <th>KOFUBL</th>\n",
       "      <th>AC*</th>\n",
       "      <th>LABB</th>\n",
       "      <th>FEMSAUBD</th>\n",
       "      <th>OMAB</th>\n",
       "      <th>...</th>\n",
       "      <th>MEGACPO</th>\n",
       "      <th>GCC*</th>\n",
       "      <th>BIMBOA</th>\n",
       "      <th>GMEXICOB</th>\n",
       "      <th>GCARSOA1</th>\n",
       "      <th>TLEVICPO</th>\n",
       "      <th>ALFAA</th>\n",
       "      <th>BSMXB</th>\n",
       "      <th>PINFRA*</th>\n",
       "      <th>MEXBOL</th>\n",
       "    </tr>\n",
       "    <tr>\n",
       "      <th>DATE</th>\n",
       "      <th></th>\n",
       "      <th></th>\n",
       "      <th></th>\n",
       "      <th></th>\n",
       "      <th></th>\n",
       "      <th></th>\n",
       "      <th></th>\n",
       "      <th></th>\n",
       "      <th></th>\n",
       "      <th></th>\n",
       "      <th></th>\n",
       "      <th></th>\n",
       "      <th></th>\n",
       "      <th></th>\n",
       "      <th></th>\n",
       "      <th></th>\n",
       "      <th></th>\n",
       "      <th></th>\n",
       "      <th></th>\n",
       "      <th></th>\n",
       "      <th></th>\n",
       "    </tr>\n",
       "  </thead>\n",
       "  <tbody>\n",
       "    <tr>\n",
       "      <th>2017-06-08</th>\n",
       "      <td>0.021310</td>\n",
       "      <td>-0.006157</td>\n",
       "      <td>0.015489</td>\n",
       "      <td>-0.010401</td>\n",
       "      <td>-0.013458</td>\n",
       "      <td>-0.008074</td>\n",
       "      <td>-0.042311</td>\n",
       "      <td>0.006852</td>\n",
       "      <td>-0.011419</td>\n",
       "      <td>-0.001199</td>\n",
       "      <td>...</td>\n",
       "      <td>-0.002221</td>\n",
       "      <td>0.004935</td>\n",
       "      <td>0.001732</td>\n",
       "      <td>-0.005342</td>\n",
       "      <td>0.008094</td>\n",
       "      <td>-0.007527</td>\n",
       "      <td>0.010765</td>\n",
       "      <td>-0.010177</td>\n",
       "      <td>-0.003959</td>\n",
       "      <td>-0.003805</td>\n",
       "    </tr>\n",
       "    <tr>\n",
       "      <th>2017-06-09</th>\n",
       "      <td>-0.009016</td>\n",
       "      <td>-0.010074</td>\n",
       "      <td>0.025015</td>\n",
       "      <td>0.007274</td>\n",
       "      <td>-0.003226</td>\n",
       "      <td>-0.006642</td>\n",
       "      <td>-0.005936</td>\n",
       "      <td>-0.008082</td>\n",
       "      <td>-0.010631</td>\n",
       "      <td>0.000100</td>\n",
       "      <td>...</td>\n",
       "      <td>0.000974</td>\n",
       "      <td>0.007143</td>\n",
       "      <td>-0.009726</td>\n",
       "      <td>0.006167</td>\n",
       "      <td>-0.012999</td>\n",
       "      <td>-0.002830</td>\n",
       "      <td>-0.004774</td>\n",
       "      <td>-0.002056</td>\n",
       "      <td>-0.004337</td>\n",
       "      <td>-0.000117</td>\n",
       "    </tr>\n",
       "    <tr>\n",
       "      <th>2017-06-12</th>\n",
       "      <td>0.018196</td>\n",
       "      <td>0.017088</td>\n",
       "      <td>0.002381</td>\n",
       "      <td>-0.018617</td>\n",
       "      <td>0.012391</td>\n",
       "      <td>-0.000656</td>\n",
       "      <td>0.001361</td>\n",
       "      <td>-0.011578</td>\n",
       "      <td>-0.004414</td>\n",
       "      <td>-0.001701</td>\n",
       "      <td>...</td>\n",
       "      <td>0.007228</td>\n",
       "      <td>-0.002660</td>\n",
       "      <td>0.024007</td>\n",
       "      <td>-0.013049</td>\n",
       "      <td>0.005939</td>\n",
       "      <td>0.007492</td>\n",
       "      <td>0.004797</td>\n",
       "      <td>0.008831</td>\n",
       "      <td>0.006326</td>\n",
       "      <td>0.000958</td>\n",
       "    </tr>\n",
       "    <tr>\n",
       "      <th>2017-06-13</th>\n",
       "      <td>-0.012254</td>\n",
       "      <td>0.019637</td>\n",
       "      <td>-0.006532</td>\n",
       "      <td>0.006407</td>\n",
       "      <td>0.007581</td>\n",
       "      <td>-0.016006</td>\n",
       "      <td>0.017286</td>\n",
       "      <td>-0.003905</td>\n",
       "      <td>-0.000292</td>\n",
       "      <td>0.013226</td>\n",
       "      <td>...</td>\n",
       "      <td>0.000552</td>\n",
       "      <td>-0.002222</td>\n",
       "      <td>-0.016837</td>\n",
       "      <td>-0.000200</td>\n",
       "      <td>-0.006546</td>\n",
       "      <td>0.003718</td>\n",
       "      <td>-0.005141</td>\n",
       "      <td>0.018675</td>\n",
       "      <td>0.020146</td>\n",
       "      <td>-0.002075</td>\n",
       "    </tr>\n",
       "    <tr>\n",
       "      <th>2017-06-14</th>\n",
       "      <td>0.013699</td>\n",
       "      <td>0.014903</td>\n",
       "      <td>0.000000</td>\n",
       "      <td>0.010676</td>\n",
       "      <td>0.001904</td>\n",
       "      <td>0.001133</td>\n",
       "      <td>-0.007568</td>\n",
       "      <td>0.001307</td>\n",
       "      <td>0.002918</td>\n",
       "      <td>0.024426</td>\n",
       "      <td>...</td>\n",
       "      <td>0.003862</td>\n",
       "      <td>-0.000668</td>\n",
       "      <td>0.013657</td>\n",
       "      <td>0.003005</td>\n",
       "      <td>0.012791</td>\n",
       "      <td>-0.001010</td>\n",
       "      <td>0.001477</td>\n",
       "      <td>0.006875</td>\n",
       "      <td>0.018132</td>\n",
       "      <td>0.005389</td>\n",
       "    </tr>\n",
       "  </tbody>\n",
       "</table>\n",
       "<p>5 rows × 36 columns</p>\n",
       "</div>"
      ],
      "text/plain": [
       "             KIMBERA      GAPB  CEMEXCPO     ASURB  GFNORTEO    KOFUBL  \\\n",
       "DATE                                                                     \n",
       "2017-06-08  0.021310 -0.006157  0.015489 -0.010401 -0.013458 -0.008074   \n",
       "2017-06-09 -0.009016 -0.010074  0.025015  0.007274 -0.003226 -0.006642   \n",
       "2017-06-12  0.018196  0.017088  0.002381 -0.018617  0.012391 -0.000656   \n",
       "2017-06-13 -0.012254  0.019637 -0.006532  0.006407  0.007581 -0.016006   \n",
       "2017-06-14  0.013699  0.014903  0.000000  0.010676  0.001904  0.001133   \n",
       "\n",
       "                 AC*      LABB  FEMSAUBD      OMAB  ...   MEGACPO      GCC*  \\\n",
       "DATE                                                ...                       \n",
       "2017-06-08 -0.042311  0.006852 -0.011419 -0.001199  ... -0.002221  0.004935   \n",
       "2017-06-09 -0.005936 -0.008082 -0.010631  0.000100  ...  0.000974  0.007143   \n",
       "2017-06-12  0.001361 -0.011578 -0.004414 -0.001701  ...  0.007228 -0.002660   \n",
       "2017-06-13  0.017286 -0.003905 -0.000292  0.013226  ...  0.000552 -0.002222   \n",
       "2017-06-14 -0.007568  0.001307  0.002918  0.024426  ...  0.003862 -0.000668   \n",
       "\n",
       "              BIMBOA  GMEXICOB  GCARSOA1  TLEVICPO     ALFAA     BSMXB  \\\n",
       "DATE                                                                     \n",
       "2017-06-08  0.001732 -0.005342  0.008094 -0.007527  0.010765 -0.010177   \n",
       "2017-06-09 -0.009726  0.006167 -0.012999 -0.002830 -0.004774 -0.002056   \n",
       "2017-06-12  0.024007 -0.013049  0.005939  0.007492  0.004797  0.008831   \n",
       "2017-06-13 -0.016837 -0.000200 -0.006546  0.003718 -0.005141  0.018675   \n",
       "2017-06-14  0.013657  0.003005  0.012791 -0.001010  0.001477  0.006875   \n",
       "\n",
       "             PINFRA*    MEXBOL  \n",
       "DATE                            \n",
       "2017-06-08 -0.003959 -0.003805  \n",
       "2017-06-09 -0.004337 -0.000117  \n",
       "2017-06-12  0.006326  0.000958  \n",
       "2017-06-13  0.020146 -0.002075  \n",
       "2017-06-14  0.018132  0.005389  \n",
       "\n",
       "[5 rows x 36 columns]"
      ]
     },
     "execution_count": 80,
     "metadata": {},
     "output_type": "execute_result"
    }
   ],
   "source": [
    "#genero matriz de rendimientos\n",
    "rets = market.pct_change().dropna(axis=0)\n",
    "rets.head()"
   ]
  },
  {
   "cell_type": "code",
   "execution_count": 83,
   "metadata": {
    "scrolled": true
   },
   "outputs": [
    {
     "data": {
      "text/html": [
       "<div>\n",
       "<style scoped>\n",
       "    .dataframe tbody tr th:only-of-type {\n",
       "        vertical-align: middle;\n",
       "    }\n",
       "\n",
       "    .dataframe tbody tr th {\n",
       "        vertical-align: top;\n",
       "    }\n",
       "\n",
       "    .dataframe thead th {\n",
       "        text-align: right;\n",
       "    }\n",
       "</style>\n",
       "<table border=\"1\" class=\"dataframe\">\n",
       "  <thead>\n",
       "    <tr style=\"text-align: right;\">\n",
       "      <th></th>\n",
       "      <th>KIMBERA</th>\n",
       "      <th>GAPB</th>\n",
       "      <th>CEMEXCPO</th>\n",
       "      <th>ASURB</th>\n",
       "      <th>GFNORTEO</th>\n",
       "      <th>KOFUBL</th>\n",
       "      <th>AC*</th>\n",
       "    </tr>\n",
       "    <tr>\n",
       "      <th>DATE</th>\n",
       "      <th></th>\n",
       "      <th></th>\n",
       "      <th></th>\n",
       "      <th></th>\n",
       "      <th></th>\n",
       "      <th></th>\n",
       "      <th></th>\n",
       "    </tr>\n",
       "  </thead>\n",
       "  <tbody>\n",
       "    <tr>\n",
       "      <th>2017-06-08</th>\n",
       "      <td>0.021310</td>\n",
       "      <td>-0.006157</td>\n",
       "      <td>0.015489</td>\n",
       "      <td>-0.010401</td>\n",
       "      <td>-0.013458</td>\n",
       "      <td>-0.008074</td>\n",
       "      <td>-0.042311</td>\n",
       "    </tr>\n",
       "    <tr>\n",
       "      <th>2017-06-09</th>\n",
       "      <td>-0.009016</td>\n",
       "      <td>-0.010074</td>\n",
       "      <td>0.025015</td>\n",
       "      <td>0.007274</td>\n",
       "      <td>-0.003226</td>\n",
       "      <td>-0.006642</td>\n",
       "      <td>-0.005936</td>\n",
       "    </tr>\n",
       "    <tr>\n",
       "      <th>2017-06-12</th>\n",
       "      <td>0.018196</td>\n",
       "      <td>0.017088</td>\n",
       "      <td>0.002381</td>\n",
       "      <td>-0.018617</td>\n",
       "      <td>0.012391</td>\n",
       "      <td>-0.000656</td>\n",
       "      <td>0.001361</td>\n",
       "    </tr>\n",
       "    <tr>\n",
       "      <th>2017-06-13</th>\n",
       "      <td>-0.012254</td>\n",
       "      <td>0.019637</td>\n",
       "      <td>-0.006532</td>\n",
       "      <td>0.006407</td>\n",
       "      <td>0.007581</td>\n",
       "      <td>-0.016006</td>\n",
       "      <td>0.017286</td>\n",
       "    </tr>\n",
       "    <tr>\n",
       "      <th>2017-06-14</th>\n",
       "      <td>0.013699</td>\n",
       "      <td>0.014903</td>\n",
       "      <td>0.000000</td>\n",
       "      <td>0.010676</td>\n",
       "      <td>0.001904</td>\n",
       "      <td>0.001133</td>\n",
       "      <td>-0.007568</td>\n",
       "    </tr>\n",
       "  </tbody>\n",
       "</table>\n",
       "</div>"
      ],
      "text/plain": [
       "             KIMBERA      GAPB  CEMEXCPO     ASURB  GFNORTEO    KOFUBL  \\\n",
       "DATE                                                                     \n",
       "2017-06-08  0.021310 -0.006157  0.015489 -0.010401 -0.013458 -0.008074   \n",
       "2017-06-09 -0.009016 -0.010074  0.025015  0.007274 -0.003226 -0.006642   \n",
       "2017-06-12  0.018196  0.017088  0.002381 -0.018617  0.012391 -0.000656   \n",
       "2017-06-13 -0.012254  0.019637 -0.006532  0.006407  0.007581 -0.016006   \n",
       "2017-06-14  0.013699  0.014903  0.000000  0.010676  0.001904  0.001133   \n",
       "\n",
       "                 AC*  \n",
       "DATE                  \n",
       "2017-06-08 -0.042311  \n",
       "2017-06-09 -0.005936  \n",
       "2017-06-12  0.001361  \n",
       "2017-06-13  0.017286  \n",
       "2017-06-14 -0.007568  "
      ]
     },
     "execution_count": 83,
     "metadata": {},
     "output_type": "execute_result"
    }
   ],
   "source": [
    "#selecciono 7 acciones\n",
    "rends = rets.copy().drop(['LABB', 'FEMSAUBD', 'OMAB', 'GFINBURO', 'AMXL', 'ALSEA*', 'ORBIA*',\n",
    "       'PE&OLES*', 'GRUMAB', 'RA', 'WALMEX*', 'BOLSAA', 'LIVEPOLC', 'GENTERA*',\n",
    "       'IENOVA*', 'CUERVO*', 'ELEKTRA*', 'BBAJIOO', 'ALPEKA', 'MEGACPO',\n",
    "       'GCC*', 'BIMBOA', 'GMEXICOB', 'GCARSOA1', 'TLEVICPO', 'ALFAA', 'BSMXB',\n",
    "       'PINFRA*', 'MEXBOL'], axis=1)\n",
    "\n",
    "rends.head()"
   ]
  },
  {
   "cell_type": "code",
   "execution_count": 84,
   "metadata": {},
   "outputs": [],
   "source": [
    "#Calculamos de rendimientos (rendimientos promedio contantes)\n",
    "rend_rpc_diario = rends.mean()  #diario\n",
    "rend_rpc_anual = rends.mean()*252  #anual"
   ]
  },
  {
   "cell_type": "markdown",
   "metadata": {},
   "source": [
    "1- Rendimiento promedio constante diario y anual"
   ]
  },
  {
   "cell_type": "code",
   "execution_count": 85,
   "metadata": {
    "scrolled": true
   },
   "outputs": [
    {
     "name": "stdout",
     "output_type": "stream",
     "text": [
      "rendimiento diario\n",
      "KIMBERA     0.000128\n",
      "GAPB        0.000421\n",
      "CEMEXCPO   -0.001033\n",
      "ASURB       0.000102\n",
      "GFNORTEO    0.000193\n",
      "KOFUBL     -0.000349\n",
      "AC*        -0.000376\n",
      "dtype: float64\n",
      " \n",
      "rendimiento anual\n",
      "KIMBERA     0.032192\n",
      "GAPB        0.105969\n",
      "CEMEXCPO   -0.260338\n",
      "ASURB       0.025599\n",
      "GFNORTEO    0.048631\n",
      "KOFUBL     -0.087839\n",
      "AC*        -0.094801\n",
      "dtype: float64\n"
     ]
    }
   ],
   "source": [
    "print(\"rendimiento diario\")\n",
    "print(rend_rpc_diario)\n",
    "print(\" \")\n",
    "print(\"rendimiento anual\")\n",
    "print(rend_rpc_anual)"
   ]
  },
  {
   "cell_type": "markdown",
   "metadata": {},
   "source": [
    "Rendimientos con CAPM"
   ]
  },
  {
   "cell_type": "code",
   "execution_count": 86,
   "metadata": {
    "scrolled": true
   },
   "outputs": [
    {
     "data": {
      "text/html": [
       "<div>\n",
       "<style scoped>\n",
       "    .dataframe tbody tr th:only-of-type {\n",
       "        vertical-align: middle;\n",
       "    }\n",
       "\n",
       "    .dataframe tbody tr th {\n",
       "        vertical-align: top;\n",
       "    }\n",
       "\n",
       "    .dataframe thead th {\n",
       "        text-align: right;\n",
       "    }\n",
       "</style>\n",
       "<table border=\"1\" class=\"dataframe\">\n",
       "  <thead>\n",
       "    <tr style=\"text-align: right;\">\n",
       "      <th></th>\n",
       "      <th>MEXBOL</th>\n",
       "    </tr>\n",
       "    <tr>\n",
       "      <th>DATE</th>\n",
       "      <th></th>\n",
       "    </tr>\n",
       "  </thead>\n",
       "  <tbody>\n",
       "    <tr>\n",
       "      <th>2017-06-08</th>\n",
       "      <td>-0.003805</td>\n",
       "    </tr>\n",
       "    <tr>\n",
       "      <th>2017-06-09</th>\n",
       "      <td>-0.000117</td>\n",
       "    </tr>\n",
       "    <tr>\n",
       "      <th>2017-06-12</th>\n",
       "      <td>0.000958</td>\n",
       "    </tr>\n",
       "    <tr>\n",
       "      <th>2017-06-13</th>\n",
       "      <td>-0.002075</td>\n",
       "    </tr>\n",
       "    <tr>\n",
       "      <th>2017-06-14</th>\n",
       "      <td>0.005389</td>\n",
       "    </tr>\n",
       "  </tbody>\n",
       "</table>\n",
       "</div>"
      ],
      "text/plain": [
       "              MEXBOL\n",
       "DATE                \n",
       "2017-06-08 -0.003805\n",
       "2017-06-09 -0.000117\n",
       "2017-06-12  0.000958\n",
       "2017-06-13 -0.002075\n",
       "2017-06-14  0.005389"
      ]
     },
     "execution_count": 86,
     "metadata": {},
     "output_type": "execute_result"
    }
   ],
   "source": [
    "#se extrae la informacion del Rm (rendimiento de mercado, en este caso IPC=MEXBOL)\n",
    "indice = rets[['MEXBOL']]\n",
    "indice.head()"
   ]
  },
  {
   "cell_type": "code",
   "execution_count": 87,
   "metadata": {},
   "outputs": [
    {
     "data": {
      "text/plain": [
       "MEXBOL   -0.000111\n",
       "dtype: float64"
      ]
     },
     "execution_count": 87,
     "metadata": {},
     "output_type": "execute_result"
    }
   ],
   "source": [
    "#obtengo el rendimiento de mercado, es decir, del ipc\n",
    "rend_ipc_diario = indice.mean()  #rendimiento diario\n",
    "rend_ipc_diario"
   ]
  },
  {
   "cell_type": "code",
   "execution_count": 88,
   "metadata": {},
   "outputs": [
    {
     "data": {
      "text/plain": [
       "MEXBOL    0.000073\n",
       "dtype: float64"
      ]
     },
     "execution_count": 88,
     "metadata": {},
     "output_type": "execute_result"
    }
   ],
   "source": [
    "#calculo la varianza del ipc (volatilidad)\n",
    "var_ipc_diario = indice.var()  #varianza diaria\n",
    "var_ipc_diario"
   ]
  },
  {
   "cell_type": "code",
   "execution_count": 89,
   "metadata": {
    "scrolled": true
   },
   "outputs": [
    {
     "data": {
      "text/html": [
       "<div>\n",
       "<style scoped>\n",
       "    .dataframe tbody tr th:only-of-type {\n",
       "        vertical-align: middle;\n",
       "    }\n",
       "\n",
       "    .dataframe tbody tr th {\n",
       "        vertical-align: top;\n",
       "    }\n",
       "\n",
       "    .dataframe thead th {\n",
       "        text-align: right;\n",
       "    }\n",
       "</style>\n",
       "<table border=\"1\" class=\"dataframe\">\n",
       "  <thead>\n",
       "    <tr style=\"text-align: right;\">\n",
       "      <th></th>\n",
       "      <th>KIMBERA</th>\n",
       "      <th>GAPB</th>\n",
       "      <th>CEMEXCPO</th>\n",
       "      <th>ASURB</th>\n",
       "      <th>GFNORTEO</th>\n",
       "      <th>KOFUBL</th>\n",
       "      <th>AC*</th>\n",
       "      <th>MEXBOL</th>\n",
       "    </tr>\n",
       "    <tr>\n",
       "      <th>DATE</th>\n",
       "      <th></th>\n",
       "      <th></th>\n",
       "      <th></th>\n",
       "      <th></th>\n",
       "      <th></th>\n",
       "      <th></th>\n",
       "      <th></th>\n",
       "      <th></th>\n",
       "    </tr>\n",
       "  </thead>\n",
       "  <tbody>\n",
       "    <tr>\n",
       "      <th>2017-06-08</th>\n",
       "      <td>0.021310</td>\n",
       "      <td>-0.006157</td>\n",
       "      <td>0.015489</td>\n",
       "      <td>-0.010401</td>\n",
       "      <td>-0.013458</td>\n",
       "      <td>-0.008074</td>\n",
       "      <td>-0.042311</td>\n",
       "      <td>-0.003805</td>\n",
       "    </tr>\n",
       "    <tr>\n",
       "      <th>2017-06-09</th>\n",
       "      <td>-0.009016</td>\n",
       "      <td>-0.010074</td>\n",
       "      <td>0.025015</td>\n",
       "      <td>0.007274</td>\n",
       "      <td>-0.003226</td>\n",
       "      <td>-0.006642</td>\n",
       "      <td>-0.005936</td>\n",
       "      <td>-0.000117</td>\n",
       "    </tr>\n",
       "    <tr>\n",
       "      <th>2017-06-12</th>\n",
       "      <td>0.018196</td>\n",
       "      <td>0.017088</td>\n",
       "      <td>0.002381</td>\n",
       "      <td>-0.018617</td>\n",
       "      <td>0.012391</td>\n",
       "      <td>-0.000656</td>\n",
       "      <td>0.001361</td>\n",
       "      <td>0.000958</td>\n",
       "    </tr>\n",
       "    <tr>\n",
       "      <th>2017-06-13</th>\n",
       "      <td>-0.012254</td>\n",
       "      <td>0.019637</td>\n",
       "      <td>-0.006532</td>\n",
       "      <td>0.006407</td>\n",
       "      <td>0.007581</td>\n",
       "      <td>-0.016006</td>\n",
       "      <td>0.017286</td>\n",
       "      <td>-0.002075</td>\n",
       "    </tr>\n",
       "    <tr>\n",
       "      <th>2017-06-14</th>\n",
       "      <td>0.013699</td>\n",
       "      <td>0.014903</td>\n",
       "      <td>0.000000</td>\n",
       "      <td>0.010676</td>\n",
       "      <td>0.001904</td>\n",
       "      <td>0.001133</td>\n",
       "      <td>-0.007568</td>\n",
       "      <td>0.005389</td>\n",
       "    </tr>\n",
       "  </tbody>\n",
       "</table>\n",
       "</div>"
      ],
      "text/plain": [
       "             KIMBERA      GAPB  CEMEXCPO     ASURB  GFNORTEO    KOFUBL  \\\n",
       "DATE                                                                     \n",
       "2017-06-08  0.021310 -0.006157  0.015489 -0.010401 -0.013458 -0.008074   \n",
       "2017-06-09 -0.009016 -0.010074  0.025015  0.007274 -0.003226 -0.006642   \n",
       "2017-06-12  0.018196  0.017088  0.002381 -0.018617  0.012391 -0.000656   \n",
       "2017-06-13 -0.012254  0.019637 -0.006532  0.006407  0.007581 -0.016006   \n",
       "2017-06-14  0.013699  0.014903  0.000000  0.010676  0.001904  0.001133   \n",
       "\n",
       "                 AC*    MEXBOL  \n",
       "DATE                            \n",
       "2017-06-08 -0.042311 -0.003805  \n",
       "2017-06-09 -0.005936 -0.000117  \n",
       "2017-06-12  0.001361  0.000958  \n",
       "2017-06-13  0.017286 -0.002075  \n",
       "2017-06-14 -0.007568  0.005389  "
      ]
     },
     "execution_count": 89,
     "metadata": {},
     "output_type": "execute_result"
    }
   ],
   "source": [
    "#genero una nueva base con el MEXBOL\n",
    "data_capm = rets.copy().drop(['LABB', 'FEMSAUBD', 'OMAB', 'GFINBURO', 'AMXL', 'ALSEA*', 'ORBIA*',\n",
    "       'PE&OLES*', 'GRUMAB', 'RA', 'WALMEX*', 'BOLSAA', 'LIVEPOLC', 'GENTERA*',\n",
    "       'IENOVA*', 'CUERVO*', 'ELEKTRA*', 'BBAJIOO', 'ALPEKA', 'MEGACPO',\n",
    "       'GCC*', 'BIMBOA', 'GMEXICOB', 'GCARSOA1', 'TLEVICPO', 'ALFAA', 'BSMXB',\n",
    "       'PINFRA*'], axis=1)\n",
    "\n",
    "data_capm.head()"
   ]
  },
  {
   "cell_type": "code",
   "execution_count": 90,
   "metadata": {
    "scrolled": false
   },
   "outputs": [
    {
     "data": {
      "text/html": [
       "<div>\n",
       "<style scoped>\n",
       "    .dataframe tbody tr th:only-of-type {\n",
       "        vertical-align: middle;\n",
       "    }\n",
       "\n",
       "    .dataframe tbody tr th {\n",
       "        vertical-align: top;\n",
       "    }\n",
       "\n",
       "    .dataframe thead th {\n",
       "        text-align: right;\n",
       "    }\n",
       "</style>\n",
       "<table border=\"1\" class=\"dataframe\">\n",
       "  <thead>\n",
       "    <tr style=\"text-align: right;\">\n",
       "      <th></th>\n",
       "      <th>KIMBERA</th>\n",
       "      <th>GAPB</th>\n",
       "      <th>CEMEXCPO</th>\n",
       "      <th>ASURB</th>\n",
       "      <th>GFNORTEO</th>\n",
       "      <th>KOFUBL</th>\n",
       "      <th>AC*</th>\n",
       "      <th>MEXBOL</th>\n",
       "    </tr>\n",
       "  </thead>\n",
       "  <tbody>\n",
       "    <tr>\n",
       "      <th>KIMBERA</th>\n",
       "      <td>0.000251</td>\n",
       "      <td>0.000049</td>\n",
       "      <td>0.000082</td>\n",
       "      <td>0.000053</td>\n",
       "      <td>0.000070</td>\n",
       "      <td>0.000048</td>\n",
       "      <td>0.000046</td>\n",
       "      <td>0.000061</td>\n",
       "    </tr>\n",
       "    <tr>\n",
       "      <th>GAPB</th>\n",
       "      <td>0.000049</td>\n",
       "      <td>0.000238</td>\n",
       "      <td>0.000067</td>\n",
       "      <td>0.000138</td>\n",
       "      <td>0.000105</td>\n",
       "      <td>0.000043</td>\n",
       "      <td>0.000045</td>\n",
       "      <td>0.000068</td>\n",
       "    </tr>\n",
       "    <tr>\n",
       "      <th>CEMEXCPO</th>\n",
       "      <td>0.000082</td>\n",
       "      <td>0.000067</td>\n",
       "      <td>0.000339</td>\n",
       "      <td>0.000084</td>\n",
       "      <td>0.000127</td>\n",
       "      <td>0.000058</td>\n",
       "      <td>0.000041</td>\n",
       "      <td>0.000094</td>\n",
       "    </tr>\n",
       "    <tr>\n",
       "      <th>ASURB</th>\n",
       "      <td>0.000053</td>\n",
       "      <td>0.000138</td>\n",
       "      <td>0.000084</td>\n",
       "      <td>0.000229</td>\n",
       "      <td>0.000095</td>\n",
       "      <td>0.000048</td>\n",
       "      <td>0.000038</td>\n",
       "      <td>0.000069</td>\n",
       "    </tr>\n",
       "    <tr>\n",
       "      <th>GFNORTEO</th>\n",
       "      <td>0.000070</td>\n",
       "      <td>0.000105</td>\n",
       "      <td>0.000127</td>\n",
       "      <td>0.000095</td>\n",
       "      <td>0.000381</td>\n",
       "      <td>0.000050</td>\n",
       "      <td>0.000046</td>\n",
       "      <td>0.000117</td>\n",
       "    </tr>\n",
       "    <tr>\n",
       "      <th>KOFUBL</th>\n",
       "      <td>0.000048</td>\n",
       "      <td>0.000043</td>\n",
       "      <td>0.000058</td>\n",
       "      <td>0.000048</td>\n",
       "      <td>0.000050</td>\n",
       "      <td>0.000150</td>\n",
       "      <td>0.000044</td>\n",
       "      <td>0.000052</td>\n",
       "    </tr>\n",
       "    <tr>\n",
       "      <th>AC*</th>\n",
       "      <td>0.000046</td>\n",
       "      <td>0.000045</td>\n",
       "      <td>0.000041</td>\n",
       "      <td>0.000038</td>\n",
       "      <td>0.000046</td>\n",
       "      <td>0.000044</td>\n",
       "      <td>0.000144</td>\n",
       "      <td>0.000042</td>\n",
       "    </tr>\n",
       "    <tr>\n",
       "      <th>MEXBOL</th>\n",
       "      <td>0.000061</td>\n",
       "      <td>0.000068</td>\n",
       "      <td>0.000094</td>\n",
       "      <td>0.000069</td>\n",
       "      <td>0.000117</td>\n",
       "      <td>0.000052</td>\n",
       "      <td>0.000042</td>\n",
       "      <td>0.000073</td>\n",
       "    </tr>\n",
       "  </tbody>\n",
       "</table>\n",
       "</div>"
      ],
      "text/plain": [
       "           KIMBERA      GAPB  CEMEXCPO     ASURB  GFNORTEO    KOFUBL  \\\n",
       "KIMBERA   0.000251  0.000049  0.000082  0.000053  0.000070  0.000048   \n",
       "GAPB      0.000049  0.000238  0.000067  0.000138  0.000105  0.000043   \n",
       "CEMEXCPO  0.000082  0.000067  0.000339  0.000084  0.000127  0.000058   \n",
       "ASURB     0.000053  0.000138  0.000084  0.000229  0.000095  0.000048   \n",
       "GFNORTEO  0.000070  0.000105  0.000127  0.000095  0.000381  0.000050   \n",
       "KOFUBL    0.000048  0.000043  0.000058  0.000048  0.000050  0.000150   \n",
       "AC*       0.000046  0.000045  0.000041  0.000038  0.000046  0.000044   \n",
       "MEXBOL    0.000061  0.000068  0.000094  0.000069  0.000117  0.000052   \n",
       "\n",
       "               AC*    MEXBOL  \n",
       "KIMBERA   0.000046  0.000061  \n",
       "GAPB      0.000045  0.000068  \n",
       "CEMEXCPO  0.000041  0.000094  \n",
       "ASURB     0.000038  0.000069  \n",
       "GFNORTEO  0.000046  0.000117  \n",
       "KOFUBL    0.000044  0.000052  \n",
       "AC*       0.000144  0.000042  \n",
       "MEXBOL    0.000042  0.000073  "
      ]
     },
     "execution_count": 90,
     "metadata": {},
     "output_type": "execute_result"
    }
   ],
   "source": [
    "#calculo la matriz de varaizna convarianza incluyendo mexbol\n",
    "var_capm =data_capm.cov()\n",
    "var_capm"
   ]
  },
  {
   "cell_type": "code",
   "execution_count": 115,
   "metadata": {
    "scrolled": true
   },
   "outputs": [
    {
     "name": "stdout",
     "output_type": "stream",
     "text": [
      "KIMBERA\n",
      "0.8342512940948715\n",
      "defensiva\n",
      "GAPB\n",
      "0.9370847557276849\n",
      "defensiva\n",
      "CEMEXCPO\n",
      "1.2936222822706345\n",
      "agresiva\n",
      "ASURB\n",
      "0.9424661448883279\n",
      "defensiva\n",
      "GFNORTEO\n",
      "1.5956398931437563\n",
      "agresiva\n",
      "KOFUBL\n",
      "0.716950374449028\n",
      "defensiva\n",
      "AC*\n",
      "0.5685905783295562\n",
      "defensiva\n"
     ]
    }
   ],
   "source": [
    "#calculo de betas usando metodo de varianza-covarianza\n",
    "betas =[]\n",
    "for i in range(8-1):\n",
    "    beta= var_capm.iloc[i,7]/var_capm.iloc[7,7]\n",
    "    betas.append(beta)\n",
    "    print(data_capm.columns[i])\n",
    "    print(betas[i])\n",
    "    if betas[i]>1:\n",
    "        print(\"agresiva\")\n",
    "    else:\n",
    "        print(\"defensiva\")"
   ]
  },
  {
   "cell_type": "code",
   "execution_count": 92,
   "metadata": {
    "scrolled": true
   },
   "outputs": [
    {
     "name": "stdout",
     "output_type": "stream",
     "text": [
      "KIMBERA\n",
      "0.0005294647992439966\n",
      "GAPB\n",
      "0.000570271728463367\n",
      "CEMEXCPO\n",
      "0.0007117548739169184\n",
      "ASURB\n",
      "0.0005724072003525111\n",
      "GFNORTEO\n",
      "0.0008316031321999034\n",
      "KOFUBL\n",
      "0.00048291681525755077\n",
      "AC*\n",
      "0.0004240438802895064\n"
     ]
    }
   ],
   "source": [
    "#calculando el rendimimento esperado diario de cada accion con CAPM\n",
    "rf=.05\n",
    "pm = .10\n",
    "rendimientos = []\n",
    "for i in range(7):\n",
    "    rn= (rf/252)+(betas[i]*(pm/252))  #divido entre 252 ya que suponemos que las tasas estan anualizadas\n",
    "    rendimientos.append(rn)\n",
    "    print(rends.columns[i])\n",
    "    print(rendimientos[i])"
   ]
  },
  {
   "cell_type": "code",
   "execution_count": 93,
   "metadata": {
    "scrolled": true
   },
   "outputs": [
    {
     "name": "stdout",
     "output_type": "stream",
     "text": [
      "KIMBERA\n",
      "0.13342512940948714\n",
      "GAPB\n",
      "0.14370847557276847\n",
      "CEMEXCPO\n",
      "0.17936222822706344\n",
      "ASURB\n",
      "0.1442466144888328\n",
      "GFNORTEO\n",
      "0.20956398931437564\n",
      "KOFUBL\n",
      "0.12169503744490279\n",
      "AC*\n",
      "0.10685905783295561\n"
     ]
    }
   ],
   "source": [
    "#calculando el rendimimento esperado anual de cada accion con CAPM\n",
    "rendimientos_anuales = []\n",
    "for i in range(7):\n",
    "    rendimientos_anuales.append(rendimientos[i]*252)\n",
    "    print(rends.columns[i])\n",
    "    print(rendimientos_anuales[i])"
   ]
  },
  {
   "cell_type": "code",
   "execution_count": 94,
   "metadata": {},
   "outputs": [
    {
     "data": {
      "text/html": [
       "<div>\n",
       "<style scoped>\n",
       "    .dataframe tbody tr th:only-of-type {\n",
       "        vertical-align: middle;\n",
       "    }\n",
       "\n",
       "    .dataframe tbody tr th {\n",
       "        vertical-align: top;\n",
       "    }\n",
       "\n",
       "    .dataframe thead th {\n",
       "        text-align: right;\n",
       "    }\n",
       "</style>\n",
       "<table border=\"1\" class=\"dataframe\">\n",
       "  <thead>\n",
       "    <tr style=\"text-align: right;\">\n",
       "      <th></th>\n",
       "      <th>Emisora</th>\n",
       "      <th>Rendimiento diario</th>\n",
       "    </tr>\n",
       "  </thead>\n",
       "  <tbody>\n",
       "    <tr>\n",
       "      <th>0</th>\n",
       "      <td>KIMBERA</td>\n",
       "      <td>0.000529</td>\n",
       "    </tr>\n",
       "    <tr>\n",
       "      <th>1</th>\n",
       "      <td>GAPB</td>\n",
       "      <td>0.000570</td>\n",
       "    </tr>\n",
       "    <tr>\n",
       "      <th>2</th>\n",
       "      <td>CEMEXCPO</td>\n",
       "      <td>0.000712</td>\n",
       "    </tr>\n",
       "    <tr>\n",
       "      <th>3</th>\n",
       "      <td>ASURB</td>\n",
       "      <td>0.000572</td>\n",
       "    </tr>\n",
       "    <tr>\n",
       "      <th>4</th>\n",
       "      <td>GFNORTEO</td>\n",
       "      <td>0.000832</td>\n",
       "    </tr>\n",
       "    <tr>\n",
       "      <th>5</th>\n",
       "      <td>KOFUBL</td>\n",
       "      <td>0.000483</td>\n",
       "    </tr>\n",
       "    <tr>\n",
       "      <th>6</th>\n",
       "      <td>AC*</td>\n",
       "      <td>0.000424</td>\n",
       "    </tr>\n",
       "  </tbody>\n",
       "</table>\n",
       "</div>"
      ],
      "text/plain": [
       "    Emisora  Rendimiento diario\n",
       "0   KIMBERA            0.000529\n",
       "1      GAPB            0.000570\n",
       "2  CEMEXCPO            0.000712\n",
       "3     ASURB            0.000572\n",
       "4  GFNORTEO            0.000832\n",
       "5    KOFUBL            0.000483\n",
       "6       AC*            0.000424"
      ]
     },
     "execution_count": 94,
     "metadata": {},
     "output_type": "execute_result"
    }
   ],
   "source": [
    "resumen = pd.DataFrame(zip(list(rends.columns.values),rendimientos),\n",
    "                                  columns =['Emisora','Rendimiento diario'])\n",
    "\n",
    "resumen"
   ]
  },
  {
   "cell_type": "markdown",
   "metadata": {},
   "source": [
    "2- Matriz de Varianza Covarianza"
   ]
  },
  {
   "cell_type": "code",
   "execution_count": 95,
   "metadata": {
    "scrolled": true
   },
   "outputs": [
    {
     "data": {
      "text/html": [
       "<div>\n",
       "<style scoped>\n",
       "    .dataframe tbody tr th:only-of-type {\n",
       "        vertical-align: middle;\n",
       "    }\n",
       "\n",
       "    .dataframe tbody tr th {\n",
       "        vertical-align: top;\n",
       "    }\n",
       "\n",
       "    .dataframe thead th {\n",
       "        text-align: right;\n",
       "    }\n",
       "</style>\n",
       "<table border=\"1\" class=\"dataframe\">\n",
       "  <thead>\n",
       "    <tr style=\"text-align: right;\">\n",
       "      <th></th>\n",
       "      <th>KIMBERA</th>\n",
       "      <th>GAPB</th>\n",
       "      <th>CEMEXCPO</th>\n",
       "      <th>ASURB</th>\n",
       "      <th>GFNORTEO</th>\n",
       "      <th>KOFUBL</th>\n",
       "      <th>AC*</th>\n",
       "    </tr>\n",
       "  </thead>\n",
       "  <tbody>\n",
       "    <tr>\n",
       "      <th>KIMBERA</th>\n",
       "      <td>0.000251</td>\n",
       "      <td>0.000049</td>\n",
       "      <td>0.000082</td>\n",
       "      <td>0.000053</td>\n",
       "      <td>0.000070</td>\n",
       "      <td>0.000048</td>\n",
       "      <td>0.000046</td>\n",
       "    </tr>\n",
       "    <tr>\n",
       "      <th>GAPB</th>\n",
       "      <td>0.000049</td>\n",
       "      <td>0.000238</td>\n",
       "      <td>0.000067</td>\n",
       "      <td>0.000138</td>\n",
       "      <td>0.000105</td>\n",
       "      <td>0.000043</td>\n",
       "      <td>0.000045</td>\n",
       "    </tr>\n",
       "    <tr>\n",
       "      <th>CEMEXCPO</th>\n",
       "      <td>0.000082</td>\n",
       "      <td>0.000067</td>\n",
       "      <td>0.000339</td>\n",
       "      <td>0.000084</td>\n",
       "      <td>0.000127</td>\n",
       "      <td>0.000058</td>\n",
       "      <td>0.000041</td>\n",
       "    </tr>\n",
       "    <tr>\n",
       "      <th>ASURB</th>\n",
       "      <td>0.000053</td>\n",
       "      <td>0.000138</td>\n",
       "      <td>0.000084</td>\n",
       "      <td>0.000229</td>\n",
       "      <td>0.000095</td>\n",
       "      <td>0.000048</td>\n",
       "      <td>0.000038</td>\n",
       "    </tr>\n",
       "    <tr>\n",
       "      <th>GFNORTEO</th>\n",
       "      <td>0.000070</td>\n",
       "      <td>0.000105</td>\n",
       "      <td>0.000127</td>\n",
       "      <td>0.000095</td>\n",
       "      <td>0.000381</td>\n",
       "      <td>0.000050</td>\n",
       "      <td>0.000046</td>\n",
       "    </tr>\n",
       "    <tr>\n",
       "      <th>KOFUBL</th>\n",
       "      <td>0.000048</td>\n",
       "      <td>0.000043</td>\n",
       "      <td>0.000058</td>\n",
       "      <td>0.000048</td>\n",
       "      <td>0.000050</td>\n",
       "      <td>0.000150</td>\n",
       "      <td>0.000044</td>\n",
       "    </tr>\n",
       "    <tr>\n",
       "      <th>AC*</th>\n",
       "      <td>0.000046</td>\n",
       "      <td>0.000045</td>\n",
       "      <td>0.000041</td>\n",
       "      <td>0.000038</td>\n",
       "      <td>0.000046</td>\n",
       "      <td>0.000044</td>\n",
       "      <td>0.000144</td>\n",
       "    </tr>\n",
       "  </tbody>\n",
       "</table>\n",
       "</div>"
      ],
      "text/plain": [
       "           KIMBERA      GAPB  CEMEXCPO     ASURB  GFNORTEO    KOFUBL       AC*\n",
       "KIMBERA   0.000251  0.000049  0.000082  0.000053  0.000070  0.000048  0.000046\n",
       "GAPB      0.000049  0.000238  0.000067  0.000138  0.000105  0.000043  0.000045\n",
       "CEMEXCPO  0.000082  0.000067  0.000339  0.000084  0.000127  0.000058  0.000041\n",
       "ASURB     0.000053  0.000138  0.000084  0.000229  0.000095  0.000048  0.000038\n",
       "GFNORTEO  0.000070  0.000105  0.000127  0.000095  0.000381  0.000050  0.000046\n",
       "KOFUBL    0.000048  0.000043  0.000058  0.000048  0.000050  0.000150  0.000044\n",
       "AC*       0.000046  0.000045  0.000041  0.000038  0.000046  0.000044  0.000144"
      ]
     },
     "execution_count": 95,
     "metadata": {},
     "output_type": "execute_result"
    }
   ],
   "source": [
    "rends.cov()"
   ]
  },
  {
   "cell_type": "markdown",
   "metadata": {},
   "source": [
    "3- Frontera de carteras de mínima varianza y frontera eficiente"
   ]
  },
  {
   "cell_type": "code",
   "execution_count": 97,
   "metadata": {},
   "outputs": [],
   "source": [
    "#defino funcion para obtener el rendimiento y la volatilidad del portafolio\n",
    "rend_diario = resumen['Rendimiento diario']\n",
    "\n",
    "def port_rend(weights, r):\n",
    "    E_p = (rend_diario @ weights).sum() * 252\n",
    "    return E_p\n",
    "\n",
    "def port_vol(weights, r):\n",
    "    S_p = np.sqrt(weights.T @ (r.cov() * 252) @ weights)\n",
    "    return S_p"
   ]
  },
  {
   "cell_type": "code",
   "execution_count": 98,
   "metadata": {},
   "outputs": [],
   "source": [
    "#simulo los pesos\n",
    "weights_sim = np.random.random((5000, 7))\n",
    "weights_sim = weights_sim / weights_sim.sum(axis=1, keepdims=True)\n",
    "\n",
    "rend_sim = np.apply_along_axis(port_rend, 1, weights_sim, r=rends)\n",
    "vol_sim = np.apply_along_axis(port_vol, 1, weights_sim, r=rends)"
   ]
  },
  {
   "cell_type": "code",
   "execution_count": 99,
   "metadata": {},
   "outputs": [
    {
     "data": {
      "text/plain": [
       "array([0.15120189, 0.14619286, 0.15317255, ..., 0.14281864, 0.1430787 ,\n",
       "       0.145249  ])"
      ]
     },
     "execution_count": 99,
     "metadata": {},
     "output_type": "execute_result"
    }
   ],
   "source": [
    "rend_sim"
   ]
  },
  {
   "cell_type": "code",
   "execution_count": 100,
   "metadata": {},
   "outputs": [
    {
     "data": {
      "text/plain": [
       "array([0.15908847, 0.16177866, 0.1637848 , ..., 0.15492159, 0.15272845,\n",
       "       0.15642423])"
      ]
     },
     "execution_count": 100,
     "metadata": {},
     "output_type": "execute_result"
    }
   ],
   "source": [
    "vol_sim"
   ]
  },
  {
   "cell_type": "code",
   "execution_count": 101,
   "metadata": {
    "scrolled": true
   },
   "outputs": [
    {
     "data": {
      "image/png": "[encoded data removed]",
      "text/plain": [
       "<Figure size 432x288 with 2 Axes>"
      ]
     },
     "metadata": {
      "needs_background": "light"
     },
     "output_type": "display_data"
    }
   ],
   "source": [
    "sharpe_ratio = rend_sim / vol_sim  #calculo el sharpe ratio para cada simulacion\n",
    "plt.scatter(vol_sim, rend_sim, c=sharpe_ratio)\n",
    "plt.colorbar(label=\"Sharpe Ratio\")\n",
    "plt.xlabel(r\"$\\sigma^2_r$\", fontsize=13)\n",
    "plt.ylabel(\"E(r)\", fontsize=13);"
   ]
  },
  {
   "cell_type": "code",
   "execution_count": 102,
   "metadata": {
    "scrolled": true
   },
   "outputs": [
    {
     "data": {
      "text/plain": [
       "     fun: 0.13793245653683353\n",
       "     jac: array([0.13764294, 0.13755936, 0.13789523, 0.13799426, 0.13807759,\n",
       "       0.13820777, 0.13787914])\n",
       " message: 'Optimization terminated successfully.'\n",
       "    nfev: 136\n",
       "     nit: 15\n",
       "    njev: 15\n",
       "  status: 0\n",
       " success: True\n",
       "       x: array([0.12219678, 0.092236  , 0.04953125, 0.10323067, 0.03325252,\n",
       "       0.28116013, 0.31839265])"
      ]
     },
     "execution_count": 102,
     "metadata": {},
     "output_type": "execute_result"
    }
   ],
   "source": [
    "N, M = rends.shape\n",
    "w0  = np.random.randn(M)\n",
    "\n",
    "def sum_weights(weights):\n",
    "    return weights.sum() - 1 # == 0\n",
    "\n",
    "def rend_esperado(w, E):\n",
    "    return port_rend(w, rends) - E # == 0\n",
    "\n",
    "\n",
    "constraints = [\n",
    "    {\"type\": \"eq\", \"fun\": sum_weights}\n",
    "]\n",
    "\n",
    "port0 = minimize(port_vol, w0, constraints=constraints, args=rends)\n",
    "port0"
   ]
  },
  {
   "cell_type": "code",
   "execution_count": 103,
   "metadata": {
    "scrolled": true
   },
   "outputs": [
    {
     "data": {
      "text/plain": [
       "(0.1285413874240014, 0.13793245653683353)"
      ]
     },
     "execution_count": 103,
     "metadata": {},
     "output_type": "execute_result"
    }
   ],
   "source": [
    "wp0 = port0.x\n",
    "port_rend(wp0,rends),port_vol(wp0,rends)"
   ]
  },
  {
   "cell_type": "code",
   "execution_count": 104,
   "metadata": {
    "scrolled": true
   },
   "outputs": [
    {
     "data": {
      "image/png": "[encoded data removed]",
      "text/plain": [
       "<Figure size 432x288 with 2 Axes>"
      ]
     },
     "metadata": {
      "needs_background": "light"
     },
     "output_type": "display_data"
    }
   ],
   "source": [
    "sharpe_ratio = rend_sim / vol_sim\n",
    "plt.scatter(vol_sim, rend_sim, c=sharpe_ratio)\n",
    "plt.scatter(port_vol(wp0, rends), port_rend(wp0, rends))\n",
    "plt.colorbar(label=\"Sharpe Ratio\")\n",
    "plt.xlabel(r\"$\\sigma^2_r$\", fontsize=13)\n",
    "plt.ylabel(\"E(r)\", fontsize=13);"
   ]
  },
  {
   "cell_type": "code",
   "execution_count": 105,
   "metadata": {
    "scrolled": true
   },
   "outputs": [
    {
     "data": {
      "text/plain": [
       "array([0.12854139, 0.12968218, 0.13082298, 0.13196377, 0.13310456,\n",
       "       0.13424536, 0.13538615, 0.13652695, 0.13766774, 0.13880853,\n",
       "       0.13994933, 0.14109012, 0.14223092, 0.14337171, 0.1445125 ,\n",
       "       0.1456533 , 0.14679409, 0.14793489, 0.14907568, 0.15021647,\n",
       "       0.15135727, 0.15249806, 0.15363886, 0.15477965, 0.15592044,\n",
       "       0.15706124, 0.15820203, 0.15934283, 0.16048362, 0.16162441,\n",
       "       0.16276521, 0.163906  , 0.1650468 , 0.16618759, 0.16732838,\n",
       "       0.16846918, 0.16960997, 0.17075077, 0.17189156, 0.17303235,\n",
       "       0.17417315, 0.17531394, 0.17645474, 0.17759553, 0.17873632,\n",
       "       0.17987712, 0.18101791, 0.18215871, 0.1832995 , 0.18444029])"
      ]
     },
     "execution_count": 105,
     "metadata": {},
     "output_type": "execute_result"
    }
   ],
   "source": [
    "#defino los limites de la frontera\n",
    "rmin = port_rend(wp0,rends)\n",
    "rmax = rend_sim.max()\n",
    "rend_maxs = np.linspace(rmin,rmax)\n",
    "rend_maxs"
   ]
  },
  {
   "cell_type": "code",
   "execution_count": 106,
   "metadata": {},
   "outputs": [],
   "source": [
    "#genero la frontera eficiente\n",
    "pesos_optimos = []\n",
    "N, M = rends.shape\n",
    "w_opt = np.random.randn(M)\n",
    "\n",
    "for e in rend_maxs:\n",
    "    constraints = [\n",
    "        {\"type\": \"eq\", \"fun\": sum_weights},\n",
    "        {\"type\": \"eq\", \"fun\": lambda w_opt: rend_esperado(w_opt,e)},\n",
    "    ]\n",
    "\n",
    "    \n",
    "    port_opt = minimize(port_vol, w_opt,  constraints = constraints, args=rends)\n",
    "    w_opt = port_opt.x\n",
    "    pesos_optimos.append(w_opt)"
   ]
  },
  {
   "cell_type": "code",
   "execution_count": 107,
   "metadata": {},
   "outputs": [
    {
     "name": "stdout",
     "output_type": "stream",
     "text": [
      "[ 0.08135878  0.09271509  0.27846952  0.09139125  0.45653823  0.10163197\n",
      " -0.10210484]\n",
      "1.0\n"
     ]
    }
   ],
   "source": [
    "print(w_opt)\n",
    "print(w_opt.sum())  #compruebo que la suma sea 1"
   ]
  },
  {
   "cell_type": "code",
   "execution_count": 108,
   "metadata": {
    "scrolled": true
   },
   "outputs": [
    {
     "data": {
      "image/png": "[encoded data removed]",
      "text/plain": [
       "<Figure size 432x288 with 2 Axes>"
      ]
     },
     "metadata": {
      "needs_background": "light"
     },
     "output_type": "display_data"
    }
   ],
   "source": [
    "r_opt = []\n",
    "v_opt = []\n",
    "\n",
    "for w in pesos_optimos:\n",
    "    r_opt.append(port_rend(w, rends))\n",
    "    v_opt.append(port_vol(w, rends))\n",
    "\n",
    "r_opt = np.array(r_opt)\n",
    "v_opt = np.array(v_opt)\n",
    "\n",
    "plt.scatter(v_opt, r_opt, c=r_opt)\n",
    "plt.colorbar(label=\"Sharpe Ratio\",)\n",
    "plt.xlabel(r\"$\\sigma^2_r$\", fontsize=13)\n",
    "plt.ylabel(\"E(r)\",fontsize=13);"
   ]
  },
  {
   "cell_type": "markdown",
   "metadata": {},
   "source": [
    "4- Portafolio riesgoso óptimo (maximiza el coeficiente de Sharpe)"
   ]
  },
  {
   "cell_type": "code",
   "execution_count": 109,
   "metadata": {},
   "outputs": [
    {
     "data": {
      "text/plain": [
       "array([0.1031082 , 0.09362636, 0.16242428, 0.09706009, 0.24139463,\n",
       "       0.19269187, 0.10969457])"
      ]
     },
     "execution_count": 109,
     "metadata": {},
     "output_type": "execute_result"
    }
   ],
   "source": [
    "A=3\n",
    "def min_func_sharpe(weights):\n",
    "    return - (port_rend(weights, rends) - rf) / port_vol(weights, rends)\n",
    "\n",
    "constraints_sharpe = [\n",
    "    {\"type\": \"eq\", \"fun\": sum_weights}\n",
    "]\n",
    "\n",
    "f_sharpe = minimize(min_func_sharpe, w0, constraints=constraints_sharpe)\n",
    "w_sharpe = f_sharpe.x\n",
    "w_sharpe"
   ]
  },
  {
   "cell_type": "code",
   "execution_count": 110,
   "metadata": {},
   "outputs": [
    {
     "data": {
      "text/plain": [
       "1.0"
      ]
     },
     "execution_count": 110,
     "metadata": {},
     "output_type": "execute_result"
    }
   ],
   "source": [
    "w_sharpe.sum()  #compruebo la suma"
   ]
  },
  {
   "cell_type": "code",
   "execution_count": 111,
   "metadata": {
    "scrolled": true
   },
   "outputs": [
    {
     "data": {
      "text/plain": [
       "<matplotlib.legend.Legend at 0x23cb0ce2988>"
      ]
     },
     "execution_count": 111,
     "metadata": {},
     "output_type": "execute_result"
    },
    {
     "data": {
      "image/png": "[encoded data removed]",
      "text/plain": [
       "<Figure size 432x288 with 1 Axes>"
      ]
     },
     "metadata": {
      "needs_background": "light"
     },
     "output_type": "display_data"
    }
   ],
   "source": [
    "e_sharpe = port_rend(w_sharpe, rends)\n",
    "vol_sharpe = port_vol(w_sharpe, rends)\n",
    "\n",
    "sigma_c =  np.linspace(.12, 0.25)\n",
    "sharpe = (rf) + sigma_c * (e_sharpe - (rf)) / vol_sharpe\n",
    "\n",
    "plt.plot(sigma_c, sharpe, linestyle=\"--\", c=\"tab:orange\", label=\"Capital Allocation Line\")\n",
    "plt.plot(v_opt, r_opt)\n",
    "plt.legend(fontsize=12)"
   ]
  },
  {
   "cell_type": "code",
   "execution_count": 112,
   "metadata": {
    "scrolled": true
   },
   "outputs": [
    {
     "name": "stdout",
     "output_type": "stream",
     "text": [
      "0.1561046208916625\n",
      "0.1603295372018579\n"
     ]
    }
   ],
   "source": [
    "print(e_sharpe)\n",
    "print(vol_sharpe)"
   ]
  },
  {
   "cell_type": "markdown",
   "metadata": {},
   "source": [
    "5- Elige los porcentajes a invertir en el portafolio riesgoso óptimo y el activo libre de riesgo"
   ]
  },
  {
   "cell_type": "code",
   "execution_count": 113,
   "metadata": {
    "scrolled": true
   },
   "outputs": [
    {
     "name": "stdout",
     "output_type": "stream",
     "text": [
      "la inversion en el protafolio riesgoso es:0.22059695038823857\n",
      "la inversion en el protafolio libre de riesgo es:0.7794030496117614\n"
     ]
    }
   ],
   "source": [
    "y_star= (e_sharpe-rf)/(A*vol_sharpe**1)\n",
    "print(f\"la inversion en el protafolio riesgoso es:{y_star}\")\n",
    "print(f\"la inversion en el protafolio libre de riesgo es:{1-y_star}\")"
   ]
  },
  {
   "cell_type": "code",
   "execution_count": 114,
   "metadata": {},
   "outputs": [
    {
     "name": "stdout",
     "output_type": "stream",
     "text": [
      "E[u]=0.0734\n",
      "V[u]=0.16\n"
     ]
    }
   ],
   "source": [
    "E_util = rf+y_star*(e_sharpe-rf)\n",
    "V_util = y_star*vol_sharpe\n",
    "\n",
    "print(f\"E[u]={E_util:0.3}\")\n",
    "print(f\"V[u]={vol_sharpe:0.3}\")"
   ]
  },
  {
   "cell_type": "markdown",
   "metadata": {},
   "source": [
    "6- ¿En qué escenarios ocuparías una red neuronal?"
   ]
  },
  {
   "cell_type": "markdown",
   "metadata": {},
   "source": [
    "En escenarios donde se necesiten realizar tareas de clasifiacion, forecasting (pronostico) y descripcion de datos de manera eficiente y precisa. Esto se debe a la facilidad con la que se pueden aplicar transformaciones sobre la informacion (X) que se desea analizar y de esta manera generar mas informacion  lo cual hace que la estimacion sea mas precisa."
   ]
  },
  {
   "cell_type": "markdown",
   "metadata": {},
   "source": [
    "7-¿En qué escenarios no ocuparías una red neuronal?"
   ]
  },
  {
   "cell_type": "markdown",
   "metadata": {},
   "source": [
    "Cuando es poca en cantidad o poco confiable la informacion con la que se va a alimentar al modelo. Cuando no se cuenta\n",
    "con el tiempo o los recursos computacionales suficientes para procesar la red neuronal."
   ]
  },
  {
   "cell_type": "markdown",
   "metadata": {},
   "source": [
    "8- Menciona tres funciones de activación para una red neuronal feed-forward"
   ]
  },
  {
   "cell_type": "markdown",
   "metadata": {},
   "source": [
    "Sigmoidal, Tangencial Hiperbolica y ReLu (rectified linear unit)"
   ]
  },
  {
   "cell_type": "markdown",
   "metadata": {},
   "source": [
    "9- ¿Qué es el método de backpropagation?"
   ]
  },
  {
   "cell_type": "markdown",
   "metadata": {},
   "source": [
    "Se puede entender como le gradient descent en redes neuronales. Se divide en 2 partes: feed-forward y backprop. Este algoritmo entrena a la red neuronal a traves de la regla de la cadena. Los parametros se ajustan a la inversa, del output al input"
   ]
  },
  {
   "cell_type": "markdown",
   "metadata": {},
   "source": [
    "10- ¿En qué difiere una red neuronal feed - forward de una red neuronal convolucional?"
   ]
  },
  {
   "cell_type": "markdown",
   "metadata": {},
   "source": [
    "La diferencia esta en las conexiones de las neuronas, en feed forward las neuronas se conectan con su siguiente capa o layer \n",
    " mientras que en la convolucional existen conexiones con la capa anterior."
   ]
  }
 ],
 "metadata": {
  "kernelspec": {
   "display_name": "Python 3",
   "language": "python",
   "name": "python3"
  },
  "language_info": {
   "codemirror_mode": {
    "name": "ipython",
    "version": 3
   },
   "file_extension": ".py",
   "mimetype": "text/x-python",
   "name": "python",
   "nbconvert_exporter": "python",
   "pygments_lexer": "ipython3",
   "version": "3.7.6"
  }
 },
 "nbformat": 4,
 "nbformat_minor": 2
}
