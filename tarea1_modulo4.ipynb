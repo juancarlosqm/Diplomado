{
 "cells": [
  {
   "cell_type": "code",
   "execution_count": 90,
   "metadata": {},
   "outputs": [],
   "source": [
    "import numpy as np\n",
    "import matplotlib.pyplot as plt\n",
    "from sklearn.linear_model import LinearRegression\n",
    "from sklearn.preprocessing import PolynomialFeatures\n",
    "import ipywidgets as widgets\n",
    "from IPython.display import display\n",
    "%matplotlib nbagg"
   ]
  },
  {
   "cell_type": "code",
   "execution_count": 92,
   "metadata": {
    "scrolled": true
   },
   "outputs": [],
   "source": [
    "minwidget=1\n",
    "maxwidget =10\n",
    "grado_poli = widgets.IntSlider(min=minwidget, max=maxwidget, value=1, description = \"Grado polinomio\", style = style)\n",
    "m=1000\n",
    "def polynomial_regresion(grado_poli):\n",
    "    fig, ax = plt.subplots(1,figsize=(7,2))\n",
    "    fig.suptitle(\"Regresion sobre función y\", fontsize=12)\n",
    "    ax.clear()\n",
    "    \n",
    "    X = 6*np.random.rand(m)-3\n",
    "    #np.linspace(-100,100, m)\n",
    "    y = X**maxwidget\n",
    "    \n",
    "    poly_features = PolynomialFeatures(degree=(grado_poli), include_bias = False)\n",
    "    X_poly = poly_features.fit_transform(X[:, np.newaxis])\n",
    "    regresion = LinearRegression()\n",
    "    regresion.fit(X_poly,y)\n",
    "    xrange = np.linspace(X.min(),X.max(),m)[:,np.newaxis]\n",
    "    xrange = poly_features.fit_transform(xrange)\n",
    "    y_predict = regresion.predict(xrange)\n",
    "       \n",
    "    plt.plot(X,y,\"y.\")\n",
    "    plt.plot(xrange[:,0], y_predict, \"g--\")\n",
    "    plt.show\n"
   ]
  },
  {
   "cell_type": "code",
   "execution_count": 93,
   "metadata": {},
   "outputs": [
    {
     "data": {
      "application/vnd.jupyter.widget-view+json": {
       "model_id": "2b3c0717431547978ea781833ae9dab2",
       "version_major": 2,
       "version_minor": 0
      },
      "text/plain": [
       "interactive(children=(IntSlider(value=1, description='Grado polinomio', max=10, min=1, style=SliderStyle(descr…"
      ]
     },
     "metadata": {},
     "output_type": "display_data"
    }
   ],
   "source": [
    "widgets.interactive(polynomial_regresion, grado_poli=grado_poli)"
   ]
  },
  {
   "cell_type": "code",
   "execution_count": null,
   "metadata": {},
   "outputs": [],
   "source": []
  }
 ],
 "metadata": {
  "kernelspec": {
   "display_name": "Python 3",
   "language": "python",
   "name": "python3"
  },
  "language_info": {
   "codemirror_mode": {
    "name": "ipython",
    "version": 3
   },
   "file_extension": ".py",
   "mimetype": "text/x-python",
   "name": "python",
   "nbconvert_exporter": "python",
   "pygments_lexer": "ipython3",
   "version": "3.7.4"
  }
 },
 "nbformat": 4,
 "nbformat_minor": 2
}
