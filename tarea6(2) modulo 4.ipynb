{
 "cells": [
  {
   "cell_type": "markdown",
   "metadata": {},
   "source": [
    "\n",
    "\n",
    "\n",
    "\n",
    "$$ \\displaystyle\\int\\displaystyle\\int {(y(\\bar{x}) - {E[t|x]} + E[t|x] - t)}^{2} P[t,x], d\\bar{x}dt$$\n",
    "$$ \\displaystyle\\int\\displaystyle\\int [(y(\\bar{x}) - {E[t|x]}]^{2} + 2((y(\\bar{x}) - {E[t|x]})(E[t|x] - t)) + [E[t|x] - t)]^{2} P[t,x], d\\bar{x}dt$$\n",
    "Dado que: $$ P[t,x]= P[t|x]P[x]$$\n",
    "Entonces:\n",
    "$$ \\displaystyle\\int P[x]\\displaystyle\\int [(y(\\bar{x}) - {E[t|x]}]^{2} P[t|x] d\\bar{x}dt + \\displaystyle\\int 2P[x] \\displaystyle\\int ((y(\\bar{x}) - {E[t|x]})(E[t|x] - t))P[t|x] d\\bar{x}dt + \\displaystyle\\int P[x]\\displaystyle\\int [E[t|x] - t]^{2}P[t|x] d\\bar{x}dt$$\n",
    "Dado que: $$ [E[t|x] - t]^{2} = [t - E[t|x]]^{2}$$\n",
    "$$ \\displaystyle\\int ((y(\\bar{x}) - {E[t|x]})(E[t|x] - t))P[t|x] dt = E[((y(\\bar{x}) - {E[t|x]})(E[t|x] - t))|x]$$ \n",
    "Entonces:\n",
    "$$ \\displaystyle\\int [(y(\\bar{x}) - {E[t|x]}]^{2} P[x] d\\bar{x} + \\displaystyle\\int 2P[x]E[((y(\\bar{x}) - {E[t|x]})(E[t|x] - t))|x] d\\bar{x} + \\displaystyle\\int P[x] \\displaystyle\\int [t - E[t|x]]^{2} P[t|x] d\\bar{x}dt$$\n",
    "Dado que: $$ \\displaystyle\\int [t - E[t|x]]^{2} P[t|x] dt = V[t|x] $$\n",
    "Entonces:\n",
    "$$ \\displaystyle\\int [(y(\\bar{x}) - {E[t|x]}]^{2} P[x] d\\bar{x} + \\displaystyle\\int 2P[x]E[((y(\\bar{x}) - {E[t|x]})(E[t|x] - t))|x] d\\bar{x} + \\displaystyle\\int P[x] V[t|x] d\\bar{x}$$\n",
    "Dado que : $$ E[E[[t|x] - t|x]] = 0$$\n",
    "Entonces:\n",
    "$$ \\displaystyle\\int [(y(\\bar{x}) - {E[t|x]}]^{2} P[x], d\\bar{x} + \\displaystyle\\int 2P[x]E[((y(\\bar{x}) - {E[t|x]})(0)], d\\bar{x} + \\displaystyle\\int P[x] V[t|x], d\\bar{x}$$\n",
    "$$ \\displaystyle\\int [(y(\\bar{x}) - {E[t|x]}]^{2} P[x] d\\bar{x} + \\displaystyle\\int P[x] V[t|x] d\\bar{x}$$\n",
    "$$ \\displaystyle\\int [(y(\\bar{x}) - {E[t|x]}]^{2} + V[t|x] P[x] d\\bar{x}$$\n",
    "\n",
    "\n",
    "\n",
    "$$ E[L] = \\displaystyle\\int\\displaystyle\\int ({[E_D[y(x,D)]-E[t|x]]}^{2} + V_t[t|x])   P(x) dx $$\n",
    "\n",
    "$$ =\\displaystyle\\int ({[E_D[y(x,D)]-E[t|x]]}^{2} + V_D[y(x|D)] + V_t[t|x])   P(x) dx $$\n",
    "\n",
    "\n"
   ]
  },
  {
   "cell_type": "code",
   "execution_count": null,
   "metadata": {},
   "outputs": [],
   "source": []
  }
 ],
 "metadata": {
  "kernelspec": {
   "display_name": "Python 3",
   "language": "python",
   "name": "python3"
  },
  "language_info": {
   "codemirror_mode": {
    "name": "ipython",
    "version": 3
   },
   "file_extension": ".py",
   "mimetype": "text/x-python",
   "name": "python",
   "nbconvert_exporter": "python",
   "pygments_lexer": "ipython3",
   "version": "3.7.6"
  }
 },
 "nbformat": 4,
 "nbformat_minor": 2
}
