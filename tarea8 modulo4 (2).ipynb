{
 "cells": [
  {
   "cell_type": "markdown",
   "metadata": {},
   "source": [
    "<h2 style=\"color:crimson\">Ejercicio</h2>\n",
    "\n",
    "**Entrenando un modelo con PCA**  \n",
    "Considerando  `xtrain`, `ytrain` definido en las céldas de arriba, crea dos modelos: \n",
    "1. Un pipeline considerando PCA con `n_components=0.7` seguido de un modelo `KNeighborsClassifier` con `n_neighbors=5`\n",
    "2. `KNeighborsClassifier` con `n_neighbors=5`\n",
    "\n",
    "Realiza un *cross validation* con `cv=3`.\n",
    "* ¿Qué resultados arroja cada modelo?\n",
    "* ¿que ventajas tiene cada modelo?\n",
    "* ¿Cuánto tarda en correr cada *cross-validation*?"
   ]
  },
  {
   "cell_type": "code",
   "execution_count": 27,
   "metadata": {},
   "outputs": [],
   "source": [
    "from sklearn.neighbors import KNeighborsClassifier\n",
    "from sklearn.pipeline import Pipeline\n",
    "from sklearn.model_selection import cross_validate, train_test_split\n",
    "from numpy.linalg import svd\n",
    "# conda install tensorflow\n",
    "from tensorflow.keras import datasets\n",
    "from sklearn.decomposition import PCA\n",
    "import numpy as np"
   ]
  },
  {
   "cell_type": "code",
   "execution_count": 28,
   "metadata": {},
   "outputs": [],
   "source": [
    "np.random.seed(3141)\n",
    "train, test = datasets.mnist.load_data()   #importo la informacion\n",
    "pca = PCA(n_components=.7)\n",
    "xtrain, ytrain = train  #obtengo el train set\n",
    "N, M1, M2 = xtrain.shape\n",
    "x_reduced = pca.fit_transform(xtrain.reshape(N, -1))"
   ]
  },
  {
   "cell_type": "code",
   "execution_count": 29,
   "metadata": {
    "scrolled": true
   },
   "outputs": [
    {
     "data": {
      "text/plain": [
       "array([[[0, 0, 0, ..., 0, 0, 0],\n",
       "        [0, 0, 0, ..., 0, 0, 0],\n",
       "        [0, 0, 0, ..., 0, 0, 0],\n",
       "        ...,\n",
       "        [0, 0, 0, ..., 0, 0, 0],\n",
       "        [0, 0, 0, ..., 0, 0, 0],\n",
       "        [0, 0, 0, ..., 0, 0, 0]],\n",
       "\n",
       "       [[0, 0, 0, ..., 0, 0, 0],\n",
       "        [0, 0, 0, ..., 0, 0, 0],\n",
       "        [0, 0, 0, ..., 0, 0, 0],\n",
       "        ...,\n",
       "        [0, 0, 0, ..., 0, 0, 0],\n",
       "        [0, 0, 0, ..., 0, 0, 0],\n",
       "        [0, 0, 0, ..., 0, 0, 0]],\n",
       "\n",
       "       [[0, 0, 0, ..., 0, 0, 0],\n",
       "        [0, 0, 0, ..., 0, 0, 0],\n",
       "        [0, 0, 0, ..., 0, 0, 0],\n",
       "        ...,\n",
       "        [0, 0, 0, ..., 0, 0, 0],\n",
       "        [0, 0, 0, ..., 0, 0, 0],\n",
       "        [0, 0, 0, ..., 0, 0, 0]],\n",
       "\n",
       "       ...,\n",
       "\n",
       "       [[0, 0, 0, ..., 0, 0, 0],\n",
       "        [0, 0, 0, ..., 0, 0, 0],\n",
       "        [0, 0, 0, ..., 0, 0, 0],\n",
       "        ...,\n",
       "        [0, 0, 0, ..., 0, 0, 0],\n",
       "        [0, 0, 0, ..., 0, 0, 0],\n",
       "        [0, 0, 0, ..., 0, 0, 0]],\n",
       "\n",
       "       [[0, 0, 0, ..., 0, 0, 0],\n",
       "        [0, 0, 0, ..., 0, 0, 0],\n",
       "        [0, 0, 0, ..., 0, 0, 0],\n",
       "        ...,\n",
       "        [0, 0, 0, ..., 0, 0, 0],\n",
       "        [0, 0, 0, ..., 0, 0, 0],\n",
       "        [0, 0, 0, ..., 0, 0, 0]],\n",
       "\n",
       "       [[0, 0, 0, ..., 0, 0, 0],\n",
       "        [0, 0, 0, ..., 0, 0, 0],\n",
       "        [0, 0, 0, ..., 0, 0, 0],\n",
       "        ...,\n",
       "        [0, 0, 0, ..., 0, 0, 0],\n",
       "        [0, 0, 0, ..., 0, 0, 0],\n",
       "        [0, 0, 0, ..., 0, 0, 0]]], dtype=uint8)"
      ]
     },
     "execution_count": 29,
     "metadata": {},
     "output_type": "execute_result"
    }
   ],
   "source": [
    "xtrain"
   ]
  },
  {
   "cell_type": "code",
   "execution_count": 30,
   "metadata": {},
   "outputs": [
    {
     "data": {
      "text/plain": [
       "array([[ 123.93258866, -312.67426202,  -24.51405176, ...,  250.24442545,\n",
       "          46.166068  ,  100.33944406],\n",
       "       [1011.71837587, -294.85703827,  596.33956104, ...,   18.36872214,\n",
       "         232.0157561 ,  214.90041971],\n",
       "       [ -51.84960805,  392.17315286, -188.50974943, ...,   -7.25159916,\n",
       "        -130.065424  ,   86.447237  ],\n",
       "       ...,\n",
       "       [-178.0534496 ,  160.07821109, -257.61308227, ...,  -68.42260311,\n",
       "        -370.34023033,  -27.20112081],\n",
       "       [ 130.60607208,   -5.59193642,  513.85867395, ...,  -90.90778711,\n",
       "         147.12510219,  442.79538593],\n",
       "       [-173.43595244,  -24.71880226,  556.01889393, ..., -134.52185799,\n",
       "         -71.20325505, -189.46459831]])"
      ]
     },
     "execution_count": 30,
     "metadata": {},
     "output_type": "execute_result"
    }
   ],
   "source": [
    "x_reduced"
   ]
  },
  {
   "cell_type": "code",
   "execution_count": 31,
   "metadata": {},
   "outputs": [
    {
     "data": {
      "text/plain": [
       "array([5, 0, 4, ..., 5, 6, 8], dtype=uint8)"
      ]
     },
     "execution_count": 31,
     "metadata": {},
     "output_type": "execute_result"
    }
   ],
   "source": [
    "ytrain"
   ]
  },
  {
   "cell_type": "code",
   "execution_count": 32,
   "metadata": {},
   "outputs": [
    {
     "name": "stdout",
     "output_type": "stream",
     "text": [
      "Wall time: 34.1 s\n"
     ]
    }
   ],
   "source": [
    "%%time\n",
    "pipe = Pipeline([    #genero el pipe con pca y knc\n",
    "    (\"pca\",PCA(n_components=.7)),\n",
    "    (\"knc\", KNeighborsClassifier(n_neighbors=5))\n",
    "])\n",
    "\n",
    "cv1 = cross_validate(pipe, x_reduced, ytrain, cv=3)"
   ]
  },
  {
   "cell_type": "code",
   "execution_count": 33,
   "metadata": {},
   "outputs": [
    {
     "name": "stdout",
     "output_type": "stream",
     "text": [
      "Wall time: 2min 44s\n"
     ]
    }
   ],
   "source": [
    "%%time\n",
    "cv2 = cross_validate(KNeighborsClassifier(n_neighbors=5), x_reduced, ytrain, cv=3)"
   ]
  },
  {
   "cell_type": "code",
   "execution_count": 34,
   "metadata": {
    "scrolled": false
   },
   "outputs": [
    {
     "data": {
      "text/plain": [
       "{'fit_time': array([0.49585629, 0.5671792 , 0.60703564]),\n",
       " 'score_time': array([12.18700719, 10.09491205, 10.01162267]),\n",
       " 'test_score': array([0.93595, 0.93105, 0.9331 ])}"
      ]
     },
     "execution_count": 34,
     "metadata": {},
     "output_type": "execute_result"
    }
   ],
   "source": [
    "cv1"
   ]
  },
  {
   "cell_type": "code",
   "execution_count": 35,
   "metadata": {
    "scrolled": true
   },
   "outputs": [
    {
     "data": {
      "text/plain": [
       "{'fit_time': array([0.79007602, 0.81039429, 1.26096058]),\n",
       " 'score_time': array([53.02180862, 54.37927222, 53.77408218]),\n",
       " 'test_score': array([0.9714 , 0.9699 , 0.97045])}"
      ]
     },
     "execution_count": 35,
     "metadata": {},
     "output_type": "execute_result"
    }
   ],
   "source": [
    "cv2"
   ]
  },
  {
   "cell_type": "code",
   "execution_count": 36,
   "metadata": {
    "scrolled": true
   },
   "outputs": [
    {
     "name": "stdout",
     "output_type": "stream",
     "text": [
      "0.9333666666666667\n",
      "0.9705833333333334\n"
     ]
    }
   ],
   "source": [
    "print(cv1['test_score'].mean())\n",
    "print(cv2['test_score'].mean())"
   ]
  },
  {
   "cell_type": "code",
   "execution_count": 37,
   "metadata": {},
   "outputs": [
    {
     "name": "stdout",
     "output_type": "stream",
     "text": [
      "se puede apreciar que el modelo del pipe es mas rapido al aplicarle un pca y reducir la cantidad de informacion, pero en cuanto a precision se pierde un poco al momento de reducir la informacion\n"
     ]
    }
   ],
   "source": [
    "print(\"se puede apreciar que el modelo del pipe es mas rapido al aplicarle un pca y reducir la cantidad de informacion, pero en cuanto a precision se pierde un poco al momento de reducir la informacion\")"
   ]
  }
 ],
 "metadata": {
  "kernelspec": {
   "display_name": "Python 3",
   "language": "python",
   "name": "python3"
  },
  "language_info": {
   "codemirror_mode": {
    "name": "ipython",
    "version": 3
   },
   "file_extension": ".py",
   "mimetype": "text/x-python",
   "name": "python",
   "nbconvert_exporter": "python",
   "pygments_lexer": "ipython3",
   "version": "3.7.6"
  }
 },
 "nbformat": 4,
 "nbformat_minor": 2
}
