{
 "cells": [
  {
   "cell_type": "markdown",
   "metadata": {},
   "source": []
  },
  {
   "cell_type": "markdown",
   "metadata": {},
   "source": [
    "Demostrar que: $$ \\frac{d\\sigma(x)}{d(x)} = \\sigma(x)(1-\\sigma(x)) $$\n",
    "\n",
    "$$f(x) = \\sigma(x) = \\left( \\frac{1}{1+e^{-x}} \\right) = (1+e^{-x})^{-1}$$\n",
    "\n",
    "$$f'(x) = -1(1+e^{-x})^{-2}(-e^{-x}) = \\left( \\frac{e^{-x}}{(1+e^{-x})^{2}} \\right)$$\n",
    "$$ = \\left( \\frac{1}{(1+e^{-x})} \\right)\\left( \\frac{e^{-x}}{(1+e^{-x})} \\right)$$\n",
    "$$ = \\left( \\frac{1}{(1+e^{-x})} \\right)(1-\\left( \\frac{1}{(1+e^{-x})} \\right))$$\n",
    "$$ = f(x)(1-f(x)) = \\sigma(x)(1-\\sigma(x)) $$\n",
    "\n"
   ]
  }
 ],
 "metadata": {
  "kernelspec": {
   "display_name": "Python 3",
   "language": "python",
   "name": "python3"
  },
  "language_info": {
   "codemirror_mode": {
    "name": "ipython",
    "version": 3
   },
   "file_extension": ".py",
   "mimetype": "text/x-python",
   "name": "python",
   "nbconvert_exporter": "python",
   "pygments_lexer": "ipython3",
   "version": "3.7.6"
  }
 },
 "nbformat": 4,
 "nbformat_minor": 2
}
